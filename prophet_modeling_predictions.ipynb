{
 "cells": [
  {
   "cell_type": "code",
   "execution_count": 25,
   "metadata": {},
   "outputs": [],
   "source": [
    "import pandas as pd\n",
    "import numpy as np\n",
    "import matplotlib.pyplot as plt\n",
    "import warnings\n",
    "warnings.filterwarnings('ignore')\n",
    "from datetime import datetime\n",
    "import itertools\n",
    "from sklearn import metrics\n",
    "\n",
    "import math\n",
    "\n",
    "# data visualization \n",
    "import matplotlib\n",
    "import matplotlib.pyplot as plt\n",
    "import seaborn as sns\n",
    "import statsmodels.api as sm\n",
    "from statsmodels.tsa.api import ExponentialSmoothing, SimpleExpSmoothing, Holt\n",
    "import statsmodels.api as sm\n",
    "from statsmodels.tsa.ar_model import AR\n",
    "\n",
    "from fbprophet import Prophet\n",
    "from matplotlib.dates import MonthLocator, num2date\n",
    "from matplotlib.ticker import FuncFormatter\n",
    "\n",
    "%matplotlib inline\n",
    "\n",
    "from sklearn.model_selection import TimeSeriesSplit\n",
    "\n",
    "# ignore warnings\n",
    "import warnings\n",
    "warnings.filterwarnings(\"ignore\")\n",
    "import acquire\n",
    "import prepare"
   ]
  },
  {
   "cell_type": "markdown",
   "metadata": {},
   "source": [
    "### Acquire\n",
    " - Acquires data from 8 separate csv's\n",
    " - Concats all 8 into one dataframe"
   ]
  },
  {
   "cell_type": "code",
   "execution_count": 2,
   "metadata": {},
   "outputs": [],
   "source": [
    "df = acquire.get_fitbit_data()"
   ]
  },
  {
   "cell_type": "code",
   "execution_count": 3,
   "metadata": {},
   "outputs": [
    {
     "data": {
      "text/plain": [
       "(225, 10)"
      ]
     },
     "execution_count": 3,
     "metadata": {},
     "output_type": "execute_result"
    }
   ],
   "source": [
    "df.shape"
   ]
  },
  {
   "cell_type": "code",
   "execution_count": 4,
   "metadata": {},
   "outputs": [
    {
     "data": {
      "text/html": [
       "<div>\n",
       "<style scoped>\n",
       "    .dataframe tbody tr th:only-of-type {\n",
       "        vertical-align: middle;\n",
       "    }\n",
       "\n",
       "    .dataframe tbody tr th {\n",
       "        vertical-align: top;\n",
       "    }\n",
       "\n",
       "    .dataframe thead th {\n",
       "        text-align: right;\n",
       "    }\n",
       "</style>\n",
       "<table border=\"1\" class=\"dataframe\">\n",
       "  <thead>\n",
       "    <tr style=\"text-align: right;\">\n",
       "      <th></th>\n",
       "      <th>Date</th>\n",
       "      <th>Calories Burned</th>\n",
       "      <th>Steps</th>\n",
       "      <th>Distance</th>\n",
       "      <th>Floors</th>\n",
       "      <th>Minutes Sedentary</th>\n",
       "      <th>Minutes Lightly Active</th>\n",
       "      <th>Minutes Fairly Active</th>\n",
       "      <th>Minutes Very Active</th>\n",
       "      <th>Activity Calories</th>\n",
       "    </tr>\n",
       "  </thead>\n",
       "  <tbody>\n",
       "    <tr>\n",
       "      <th>0</th>\n",
       "      <td>6/27/18</td>\n",
       "      <td>2,145</td>\n",
       "      <td>0</td>\n",
       "      <td>0.00</td>\n",
       "      <td>0</td>\n",
       "      <td>1,440</td>\n",
       "      <td>0</td>\n",
       "      <td>0</td>\n",
       "      <td>0</td>\n",
       "      <td>0</td>\n",
       "    </tr>\n",
       "    <tr>\n",
       "      <th>1</th>\n",
       "      <td>6/28/18</td>\n",
       "      <td>2,145</td>\n",
       "      <td>0</td>\n",
       "      <td>0.00</td>\n",
       "      <td>0</td>\n",
       "      <td>1,440</td>\n",
       "      <td>0</td>\n",
       "      <td>0</td>\n",
       "      <td>0</td>\n",
       "      <td>0</td>\n",
       "    </tr>\n",
       "    <tr>\n",
       "      <th>2</th>\n",
       "      <td>6/29/18</td>\n",
       "      <td>2,180</td>\n",
       "      <td>0</td>\n",
       "      <td>0.00</td>\n",
       "      <td>0</td>\n",
       "      <td>1,437</td>\n",
       "      <td>3</td>\n",
       "      <td>0</td>\n",
       "      <td>0</td>\n",
       "      <td>39</td>\n",
       "    </tr>\n",
       "    <tr>\n",
       "      <th>3</th>\n",
       "      <td>6/30/18</td>\n",
       "      <td>2,145</td>\n",
       "      <td>0</td>\n",
       "      <td>0.00</td>\n",
       "      <td>0</td>\n",
       "      <td>1,440</td>\n",
       "      <td>0</td>\n",
       "      <td>0</td>\n",
       "      <td>0</td>\n",
       "      <td>0</td>\n",
       "    </tr>\n",
       "    <tr>\n",
       "      <th>4</th>\n",
       "      <td>7/1/18</td>\n",
       "      <td>3,090</td>\n",
       "      <td>4,714</td>\n",
       "      <td>2.22</td>\n",
       "      <td>4</td>\n",
       "      <td>1,005</td>\n",
       "      <td>232</td>\n",
       "      <td>0</td>\n",
       "      <td>0</td>\n",
       "      <td>1,125</td>\n",
       "    </tr>\n",
       "  </tbody>\n",
       "</table>\n",
       "</div>"
      ],
      "text/plain": [
       "      Date Calories Burned  Steps  Distance  Floors Minutes Sedentary  \\\n",
       "0  6/27/18           2,145      0      0.00       0             1,440   \n",
       "1  6/28/18           2,145      0      0.00       0             1,440   \n",
       "2  6/29/18           2,180      0      0.00       0             1,437   \n",
       "3  6/30/18           2,145      0      0.00       0             1,440   \n",
       "4   7/1/18           3,090  4,714      2.22       4             1,005   \n",
       "\n",
       "   Minutes Lightly Active  Minutes Fairly Active  Minutes Very Active  \\\n",
       "0                       0                      0                    0   \n",
       "1                       0                      0                    0   \n",
       "2                       3                      0                    0   \n",
       "3                       0                      0                    0   \n",
       "4                     232                      0                    0   \n",
       "\n",
       "  Activity Calories  \n",
       "0                 0  \n",
       "1                 0  \n",
       "2                39  \n",
       "3                 0  \n",
       "4             1,125  "
      ]
     },
     "execution_count": 4,
     "metadata": {},
     "output_type": "execute_result"
    }
   ],
   "source": [
    "df.head()"
   ]
  },
  {
   "cell_type": "markdown",
   "metadata": {},
   "source": [
    "### Prepare fitbit function \n",
    " - formats columns names\n",
    " - changes objects to floats"
   ]
  },
  {
   "cell_type": "code",
   "execution_count": 5,
   "metadata": {},
   "outputs": [],
   "source": [
    "df = prepare.prepare_fitbit_data(df)"
   ]
  },
  {
   "cell_type": "code",
   "execution_count": 6,
   "metadata": {},
   "outputs": [
    {
     "data": {
      "text/html": [
       "<div>\n",
       "<style scoped>\n",
       "    .dataframe tbody tr th:only-of-type {\n",
       "        vertical-align: middle;\n",
       "    }\n",
       "\n",
       "    .dataframe tbody tr th {\n",
       "        vertical-align: top;\n",
       "    }\n",
       "\n",
       "    .dataframe thead th {\n",
       "        text-align: right;\n",
       "    }\n",
       "</style>\n",
       "<table border=\"1\" class=\"dataframe\">\n",
       "  <thead>\n",
       "    <tr style=\"text-align: right;\">\n",
       "      <th></th>\n",
       "      <th>date</th>\n",
       "      <th>calories_burned</th>\n",
       "      <th>steps</th>\n",
       "      <th>distance</th>\n",
       "      <th>floors</th>\n",
       "      <th>minutes_sedentary</th>\n",
       "      <th>minutes_lightly_active</th>\n",
       "      <th>minutes_fairly_active</th>\n",
       "      <th>minutes_very_active</th>\n",
       "      <th>activity_calories</th>\n",
       "    </tr>\n",
       "  </thead>\n",
       "  <tbody>\n",
       "    <tr>\n",
       "      <th>0</th>\n",
       "      <td>6/27/18</td>\n",
       "      <td>2145.0</td>\n",
       "      <td>0.0</td>\n",
       "      <td>0.00</td>\n",
       "      <td>0</td>\n",
       "      <td>1440.0</td>\n",
       "      <td>0</td>\n",
       "      <td>0</td>\n",
       "      <td>0</td>\n",
       "      <td>0.0</td>\n",
       "    </tr>\n",
       "    <tr>\n",
       "      <th>1</th>\n",
       "      <td>6/28/18</td>\n",
       "      <td>2145.0</td>\n",
       "      <td>0.0</td>\n",
       "      <td>0.00</td>\n",
       "      <td>0</td>\n",
       "      <td>1440.0</td>\n",
       "      <td>0</td>\n",
       "      <td>0</td>\n",
       "      <td>0</td>\n",
       "      <td>0.0</td>\n",
       "    </tr>\n",
       "    <tr>\n",
       "      <th>2</th>\n",
       "      <td>6/29/18</td>\n",
       "      <td>2180.0</td>\n",
       "      <td>0.0</td>\n",
       "      <td>0.00</td>\n",
       "      <td>0</td>\n",
       "      <td>1437.0</td>\n",
       "      <td>3</td>\n",
       "      <td>0</td>\n",
       "      <td>0</td>\n",
       "      <td>39.0</td>\n",
       "    </tr>\n",
       "    <tr>\n",
       "      <th>3</th>\n",
       "      <td>6/30/18</td>\n",
       "      <td>2145.0</td>\n",
       "      <td>0.0</td>\n",
       "      <td>0.00</td>\n",
       "      <td>0</td>\n",
       "      <td>1440.0</td>\n",
       "      <td>0</td>\n",
       "      <td>0</td>\n",
       "      <td>0</td>\n",
       "      <td>0.0</td>\n",
       "    </tr>\n",
       "    <tr>\n",
       "      <th>4</th>\n",
       "      <td>7/1/18</td>\n",
       "      <td>3090.0</td>\n",
       "      <td>4714.0</td>\n",
       "      <td>2.22</td>\n",
       "      <td>4</td>\n",
       "      <td>1005.0</td>\n",
       "      <td>232</td>\n",
       "      <td>0</td>\n",
       "      <td>0</td>\n",
       "      <td>1125.0</td>\n",
       "    </tr>\n",
       "  </tbody>\n",
       "</table>\n",
       "</div>"
      ],
      "text/plain": [
       "      date  calories_burned   steps  distance  floors  minutes_sedentary  \\\n",
       "0  6/27/18           2145.0     0.0      0.00       0             1440.0   \n",
       "1  6/28/18           2145.0     0.0      0.00       0             1440.0   \n",
       "2  6/29/18           2180.0     0.0      0.00       0             1437.0   \n",
       "3  6/30/18           2145.0     0.0      0.00       0             1440.0   \n",
       "4   7/1/18           3090.0  4714.0      2.22       4             1005.0   \n",
       "\n",
       "   minutes_lightly_active  minutes_fairly_active  minutes_very_active  \\\n",
       "0                       0                      0                    0   \n",
       "1                       0                      0                    0   \n",
       "2                       3                      0                    0   \n",
       "3                       0                      0                    0   \n",
       "4                     232                      0                    0   \n",
       "\n",
       "   activity_calories  \n",
       "0                0.0  \n",
       "1                0.0  \n",
       "2               39.0  \n",
       "3                0.0  \n",
       "4             1125.0  "
      ]
     },
     "execution_count": 6,
     "metadata": {},
     "output_type": "execute_result"
    }
   ],
   "source": [
    "df.head()"
   ]
  },
  {
   "cell_type": "markdown",
   "metadata": {},
   "source": [
    "### Prepare data for Prophet Modeling, 9 separate functions used (Refer to prepare.py for functions)\n",
    "   - Combines date column with each other column\n",
    "   - Changes name of columns from 'date' to 'ds', and other column to 'y'\n",
    "   - Formats date using to_datetime()\n",
    "   - Creates Prophet Object, fits, and predicts\n",
    "   - Returns dataframe, future data points, and forecast"
   ]
  },
  {
   "cell_type": "code",
   "execution_count": null,
   "metadata": {},
   "outputs": [],
   "source": [
    "    df3 = df[['date', 'distance']]\n",
    "    df3.columns = ['ds', 'y']\n",
    "\n",
    "    df3.ds = pd.to_datetime(df3.ds)\n",
    "\n",
    "    m = Prophet()\n",
    "\n",
    "    m.fit(df3)\n",
    "\n",
    "    #Create a placeholder dataframe\n",
    "\n",
    "    future3 = m.make_future_dataframe(periods=14)\n",
    "\n",
    "    forecast3 = m.predict(future3)"
   ]
  },
  {
   "cell_type": "code",
   "execution_count": 7,
   "metadata": {},
   "outputs": [
    {
     "data": {
      "text/plain": [
       "'calories_burned'"
      ]
     },
     "execution_count": 7,
     "metadata": {},
     "output_type": "execute_result"
    }
   ],
   "source": [
    "df.columns[0+1]"
   ]
  },
  {
   "cell_type": "code",
   "execution_count": 8,
   "metadata": {},
   "outputs": [
    {
     "name": "stderr",
     "output_type": "stream",
     "text": [
      "INFO:fbprophet:Disabling yearly seasonality. Run prophet with yearly_seasonality=True to override this.\n",
      "INFO:fbprophet:Disabling daily seasonality. Run prophet with daily_seasonality=True to override this.\n"
     ]
    }
   ],
   "source": [
    "df1, forecast1, future1 = prepare.prepare_calories_burned_prophet(df)"
   ]
  },
  {
   "cell_type": "code",
   "execution_count": 9,
   "metadata": {
    "scrolled": true
   },
   "outputs": [
    {
     "name": "stderr",
     "output_type": "stream",
     "text": [
      "INFO:fbprophet:Disabling yearly seasonality. Run prophet with yearly_seasonality=True to override this.\n",
      "INFO:fbprophet:Disabling daily seasonality. Run prophet with daily_seasonality=True to override this.\n"
     ]
    }
   ],
   "source": [
    "df2, forecast2, future2 = prepare.prepare_steps_prophet(df)"
   ]
  },
  {
   "cell_type": "code",
   "execution_count": 10,
   "metadata": {},
   "outputs": [
    {
     "name": "stderr",
     "output_type": "stream",
     "text": [
      "INFO:fbprophet:Disabling yearly seasonality. Run prophet with yearly_seasonality=True to override this.\n",
      "INFO:fbprophet:Disabling daily seasonality. Run prophet with daily_seasonality=True to override this.\n"
     ]
    }
   ],
   "source": [
    "df3, forecast3, future3 = prepare.prepare_distance_prophet(df)"
   ]
  },
  {
   "cell_type": "code",
   "execution_count": 11,
   "metadata": {},
   "outputs": [
    {
     "name": "stderr",
     "output_type": "stream",
     "text": [
      "INFO:fbprophet:Disabling yearly seasonality. Run prophet with yearly_seasonality=True to override this.\n",
      "INFO:fbprophet:Disabling daily seasonality. Run prophet with daily_seasonality=True to override this.\n"
     ]
    }
   ],
   "source": [
    "df4, forecast4, future4 = prepare.prepare_floors_prophet(df)"
   ]
  },
  {
   "cell_type": "code",
   "execution_count": 12,
   "metadata": {},
   "outputs": [
    {
     "name": "stderr",
     "output_type": "stream",
     "text": [
      "INFO:fbprophet:Disabling yearly seasonality. Run prophet with yearly_seasonality=True to override this.\n",
      "INFO:fbprophet:Disabling daily seasonality. Run prophet with daily_seasonality=True to override this.\n"
     ]
    }
   ],
   "source": [
    "df5, forecast5, future5 = prepare.prepare_minutes_sedentary_prophet(df)"
   ]
  },
  {
   "cell_type": "code",
   "execution_count": 13,
   "metadata": {},
   "outputs": [
    {
     "name": "stderr",
     "output_type": "stream",
     "text": [
      "INFO:fbprophet:Disabling yearly seasonality. Run prophet with yearly_seasonality=True to override this.\n",
      "INFO:fbprophet:Disabling daily seasonality. Run prophet with daily_seasonality=True to override this.\n"
     ]
    }
   ],
   "source": [
    "df6, forecast6, future6 = prepare.prepare_minutes_lightly_active_prophet(df)"
   ]
  },
  {
   "cell_type": "code",
   "execution_count": 14,
   "metadata": {},
   "outputs": [
    {
     "name": "stderr",
     "output_type": "stream",
     "text": [
      "INFO:fbprophet:Disabling yearly seasonality. Run prophet with yearly_seasonality=True to override this.\n",
      "INFO:fbprophet:Disabling daily seasonality. Run prophet with daily_seasonality=True to override this.\n"
     ]
    }
   ],
   "source": [
    "df7, forecast7, future7 = prepare.prepare_minutes_fairly_active_prophet(df)"
   ]
  },
  {
   "cell_type": "code",
   "execution_count": 15,
   "metadata": {},
   "outputs": [
    {
     "name": "stderr",
     "output_type": "stream",
     "text": [
      "INFO:fbprophet:Disabling yearly seasonality. Run prophet with yearly_seasonality=True to override this.\n",
      "INFO:fbprophet:Disabling daily seasonality. Run prophet with daily_seasonality=True to override this.\n"
     ]
    }
   ],
   "source": [
    "df8, forecast8, future8 = prepare.prepare_minutes_very_active_prophet(df)"
   ]
  },
  {
   "cell_type": "code",
   "execution_count": 16,
   "metadata": {},
   "outputs": [
    {
     "name": "stderr",
     "output_type": "stream",
     "text": [
      "INFO:fbprophet:Disabling yearly seasonality. Run prophet with yearly_seasonality=True to override this.\n",
      "INFO:fbprophet:Disabling daily seasonality. Run prophet with daily_seasonality=True to override this.\n"
     ]
    }
   ],
   "source": [
    "df9, forecast9, future9 = prepare.prepare_activity_calories_prophet(df)"
   ]
  },
  {
   "cell_type": "markdown",
   "metadata": {},
   "source": [
    "### Combine and rename Predictions to original column name"
   ]
  },
  {
   "cell_type": "code",
   "execution_count": 20,
   "metadata": {},
   "outputs": [],
   "source": [
    "predictions_df.columns = ['date', 'calories_burned']\n",
    "\n",
    "predictions_df['steps'] = future2['yhat']\n",
    "predictions_df['distance'] = future3['yhat']\n",
    "predictions_df['floors'] = future4['yhat']\n",
    "predictions_df['minutes_sedentary'] = future5['yhat']\n",
    "predictions_df['minutes_lightly_active'] = future6['yhat']\n",
    "predictions_df['minutes_fairly_active'] = future7['yhat']\n",
    "predictions_df['minutes_very_active'] = future8['yhat']\n",
    "predictions_df['activity_calories'] = future9['yhat']\n"
   ]
  },
  {
   "cell_type": "markdown",
   "metadata": {},
   "source": [
    "### Retrieve the 14 predictions"
   ]
  },
  {
   "cell_type": "code",
   "execution_count": 21,
   "metadata": {},
   "outputs": [],
   "source": [
    "predictions_df = predictions_df.tail(14) "
   ]
  },
  {
   "cell_type": "markdown",
   "metadata": {},
   "source": [
    "### Create CSV File"
   ]
  },
  {
   "cell_type": "code",
   "execution_count": 23,
   "metadata": {},
   "outputs": [],
   "source": [
    "predictions_df.to_csv('missing_2_weeks_predictions.csv')"
   ]
  },
  {
   "cell_type": "code",
   "execution_count": 24,
   "metadata": {},
   "outputs": [
    {
     "data": {
      "text/html": [
       "<div>\n",
       "<style scoped>\n",
       "    .dataframe tbody tr th:only-of-type {\n",
       "        vertical-align: middle;\n",
       "    }\n",
       "\n",
       "    .dataframe tbody tr th {\n",
       "        vertical-align: top;\n",
       "    }\n",
       "\n",
       "    .dataframe thead th {\n",
       "        text-align: right;\n",
       "    }\n",
       "</style>\n",
       "<table border=\"1\" class=\"dataframe\">\n",
       "  <thead>\n",
       "    <tr style=\"text-align: right;\">\n",
       "      <th></th>\n",
       "      <th>date</th>\n",
       "      <th>calories_burned</th>\n",
       "      <th>steps</th>\n",
       "      <th>distance</th>\n",
       "      <th>floors</th>\n",
       "      <th>minutes_sedentary</th>\n",
       "      <th>minutes_lightly_active</th>\n",
       "      <th>minutes_fairly_active</th>\n",
       "      <th>minutes_very_active</th>\n",
       "      <th>activity_calories</th>\n",
       "    </tr>\n",
       "  </thead>\n",
       "  <tbody>\n",
       "    <tr>\n",
       "      <th>225</th>\n",
       "      <td>2018-12-07</td>\n",
       "      <td>3884.978778</td>\n",
       "      <td>14930.687543</td>\n",
       "      <td>7.040219</td>\n",
       "      <td>26.486099</td>\n",
       "      <td>634.154526</td>\n",
       "      <td>234.090053</td>\n",
       "      <td>20.401854</td>\n",
       "      <td>77.627500</td>\n",
       "      <td>2245.135301</td>\n",
       "    </tr>\n",
       "    <tr>\n",
       "      <th>226</th>\n",
       "      <td>2018-12-08</td>\n",
       "      <td>3972.903362</td>\n",
       "      <td>15626.877137</td>\n",
       "      <td>7.444909</td>\n",
       "      <td>28.966153</td>\n",
       "      <td>532.006154</td>\n",
       "      <td>247.785308</td>\n",
       "      <td>26.558063</td>\n",
       "      <td>80.367805</td>\n",
       "      <td>2361.908106</td>\n",
       "    </tr>\n",
       "    <tr>\n",
       "      <th>227</th>\n",
       "      <td>2018-12-09</td>\n",
       "      <td>3970.979099</td>\n",
       "      <td>15979.181046</td>\n",
       "      <td>7.521677</td>\n",
       "      <td>37.174726</td>\n",
       "      <td>499.369540</td>\n",
       "      <td>261.123369</td>\n",
       "      <td>26.933087</td>\n",
       "      <td>81.721202</td>\n",
       "      <td>2429.678599</td>\n",
       "    </tr>\n",
       "    <tr>\n",
       "      <th>228</th>\n",
       "      <td>2018-12-10</td>\n",
       "      <td>3663.132732</td>\n",
       "      <td>13349.327877</td>\n",
       "      <td>6.313178</td>\n",
       "      <td>22.190327</td>\n",
       "      <td>588.636706</td>\n",
       "      <td>223.490295</td>\n",
       "      <td>16.214480</td>\n",
       "      <td>63.279690</td>\n",
       "      <td>1979.703820</td>\n",
       "    </tr>\n",
       "    <tr>\n",
       "      <th>229</th>\n",
       "      <td>2018-12-11</td>\n",
       "      <td>3724.052025</td>\n",
       "      <td>13955.540359</td>\n",
       "      <td>6.572497</td>\n",
       "      <td>26.683246</td>\n",
       "      <td>624.637086</td>\n",
       "      <td>232.112856</td>\n",
       "      <td>13.964514</td>\n",
       "      <td>67.028644</td>\n",
       "      <td>2038.728738</td>\n",
       "    </tr>\n",
       "    <tr>\n",
       "      <th>230</th>\n",
       "      <td>2018-12-12</td>\n",
       "      <td>3690.335455</td>\n",
       "      <td>13696.970527</td>\n",
       "      <td>6.455027</td>\n",
       "      <td>26.593278</td>\n",
       "      <td>674.633547</td>\n",
       "      <td>226.952080</td>\n",
       "      <td>14.995756</td>\n",
       "      <td>64.536530</td>\n",
       "      <td>2021.995713</td>\n",
       "    </tr>\n",
       "    <tr>\n",
       "      <th>231</th>\n",
       "      <td>2018-12-13</td>\n",
       "      <td>3858.730250</td>\n",
       "      <td>15021.318940</td>\n",
       "      <td>7.106549</td>\n",
       "      <td>28.431117</td>\n",
       "      <td>638.073644</td>\n",
       "      <td>244.803596</td>\n",
       "      <td>15.556116</td>\n",
       "      <td>73.962907</td>\n",
       "      <td>2234.951953</td>\n",
       "    </tr>\n",
       "    <tr>\n",
       "      <th>232</th>\n",
       "      <td>2018-12-14</td>\n",
       "      <td>3909.539501</td>\n",
       "      <td>15298.473858</td>\n",
       "      <td>7.214107</td>\n",
       "      <td>27.418152</td>\n",
       "      <td>621.384061</td>\n",
       "      <td>237.173983</td>\n",
       "      <td>20.651342</td>\n",
       "      <td>79.973253</td>\n",
       "      <td>2287.697086</td>\n",
       "    </tr>\n",
       "    <tr>\n",
       "      <th>233</th>\n",
       "      <td>2018-12-15</td>\n",
       "      <td>3997.464085</td>\n",
       "      <td>15994.663452</td>\n",
       "      <td>7.618797</td>\n",
       "      <td>29.898206</td>\n",
       "      <td>519.235689</td>\n",
       "      <td>250.869239</td>\n",
       "      <td>26.807550</td>\n",
       "      <td>82.713558</td>\n",
       "      <td>2404.469892</td>\n",
       "    </tr>\n",
       "    <tr>\n",
       "      <th>234</th>\n",
       "      <td>2018-12-16</td>\n",
       "      <td>3995.539822</td>\n",
       "      <td>16346.967361</td>\n",
       "      <td>7.695565</td>\n",
       "      <td>38.106779</td>\n",
       "      <td>486.599075</td>\n",
       "      <td>264.207300</td>\n",
       "      <td>27.182574</td>\n",
       "      <td>84.066956</td>\n",
       "      <td>2472.240384</td>\n",
       "    </tr>\n",
       "    <tr>\n",
       "      <th>235</th>\n",
       "      <td>2018-12-17</td>\n",
       "      <td>3687.693455</td>\n",
       "      <td>13717.114192</td>\n",
       "      <td>6.487066</td>\n",
       "      <td>23.122380</td>\n",
       "      <td>575.866241</td>\n",
       "      <td>226.574226</td>\n",
       "      <td>16.463967</td>\n",
       "      <td>65.625444</td>\n",
       "      <td>2022.265606</td>\n",
       "    </tr>\n",
       "    <tr>\n",
       "      <th>236</th>\n",
       "      <td>2018-12-18</td>\n",
       "      <td>3748.612748</td>\n",
       "      <td>14323.326674</td>\n",
       "      <td>6.746385</td>\n",
       "      <td>27.615299</td>\n",
       "      <td>611.866621</td>\n",
       "      <td>235.196787</td>\n",
       "      <td>14.214001</td>\n",
       "      <td>69.374398</td>\n",
       "      <td>2081.290523</td>\n",
       "    </tr>\n",
       "    <tr>\n",
       "      <th>237</th>\n",
       "      <td>2018-12-19</td>\n",
       "      <td>3714.896179</td>\n",
       "      <td>14064.756842</td>\n",
       "      <td>6.628914</td>\n",
       "      <td>27.525331</td>\n",
       "      <td>661.863081</td>\n",
       "      <td>230.036011</td>\n",
       "      <td>15.245244</td>\n",
       "      <td>66.882283</td>\n",
       "      <td>2064.557498</td>\n",
       "    </tr>\n",
       "    <tr>\n",
       "      <th>238</th>\n",
       "      <td>2018-12-20</td>\n",
       "      <td>3883.290973</td>\n",
       "      <td>15389.105255</td>\n",
       "      <td>7.280437</td>\n",
       "      <td>29.363170</td>\n",
       "      <td>625.303179</td>\n",
       "      <td>247.887526</td>\n",
       "      <td>15.805603</td>\n",
       "      <td>76.308661</td>\n",
       "      <td>2277.513739</td>\n",
       "    </tr>\n",
       "  </tbody>\n",
       "</table>\n",
       "</div>"
      ],
      "text/plain": [
       "          date  calories_burned         steps  distance     floors  \\\n",
       "225 2018-12-07      3884.978778  14930.687543  7.040219  26.486099   \n",
       "226 2018-12-08      3972.903362  15626.877137  7.444909  28.966153   \n",
       "227 2018-12-09      3970.979099  15979.181046  7.521677  37.174726   \n",
       "228 2018-12-10      3663.132732  13349.327877  6.313178  22.190327   \n",
       "229 2018-12-11      3724.052025  13955.540359  6.572497  26.683246   \n",
       "230 2018-12-12      3690.335455  13696.970527  6.455027  26.593278   \n",
       "231 2018-12-13      3858.730250  15021.318940  7.106549  28.431117   \n",
       "232 2018-12-14      3909.539501  15298.473858  7.214107  27.418152   \n",
       "233 2018-12-15      3997.464085  15994.663452  7.618797  29.898206   \n",
       "234 2018-12-16      3995.539822  16346.967361  7.695565  38.106779   \n",
       "235 2018-12-17      3687.693455  13717.114192  6.487066  23.122380   \n",
       "236 2018-12-18      3748.612748  14323.326674  6.746385  27.615299   \n",
       "237 2018-12-19      3714.896179  14064.756842  6.628914  27.525331   \n",
       "238 2018-12-20      3883.290973  15389.105255  7.280437  29.363170   \n",
       "\n",
       "     minutes_sedentary  minutes_lightly_active  minutes_fairly_active  \\\n",
       "225         634.154526              234.090053              20.401854   \n",
       "226         532.006154              247.785308              26.558063   \n",
       "227         499.369540              261.123369              26.933087   \n",
       "228         588.636706              223.490295              16.214480   \n",
       "229         624.637086              232.112856              13.964514   \n",
       "230         674.633547              226.952080              14.995756   \n",
       "231         638.073644              244.803596              15.556116   \n",
       "232         621.384061              237.173983              20.651342   \n",
       "233         519.235689              250.869239              26.807550   \n",
       "234         486.599075              264.207300              27.182574   \n",
       "235         575.866241              226.574226              16.463967   \n",
       "236         611.866621              235.196787              14.214001   \n",
       "237         661.863081              230.036011              15.245244   \n",
       "238         625.303179              247.887526              15.805603   \n",
       "\n",
       "     minutes_very_active  activity_calories  \n",
       "225            77.627500        2245.135301  \n",
       "226            80.367805        2361.908106  \n",
       "227            81.721202        2429.678599  \n",
       "228            63.279690        1979.703820  \n",
       "229            67.028644        2038.728738  \n",
       "230            64.536530        2021.995713  \n",
       "231            73.962907        2234.951953  \n",
       "232            79.973253        2287.697086  \n",
       "233            82.713558        2404.469892  \n",
       "234            84.066956        2472.240384  \n",
       "235            65.625444        2022.265606  \n",
       "236            69.374398        2081.290523  \n",
       "237            66.882283        2064.557498  \n",
       "238            76.308661        2277.513739  "
      ]
     },
     "execution_count": 24,
     "metadata": {},
     "output_type": "execute_result"
    }
   ],
   "source": [
    "predictions_df"
   ]
  },
  {
   "cell_type": "code",
   "execution_count": null,
   "metadata": {},
   "outputs": [],
   "source": []
  }
 ],
 "metadata": {
  "kernelspec": {
   "display_name": "Python 3",
   "language": "python",
   "name": "python3"
  },
  "language_info": {
   "codemirror_mode": {
    "name": "ipython",
    "version": 3
   },
   "file_extension": ".py",
   "mimetype": "text/x-python",
   "name": "python",
   "nbconvert_exporter": "python",
   "pygments_lexer": "ipython3",
   "version": "3.7.3"
  }
 },
 "nbformat": 4,
 "nbformat_minor": 2
}

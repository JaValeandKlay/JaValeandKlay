{
 "cells": [
  {
   "cell_type": "markdown",
   "metadata": {},
   "source": [
    "Fitbit data for one individual.  Looks like a he/she left it off from time to time.  Assuming sleep and work for monday through friday, 2/3 of the day is sedentary.  "
   ]
  },
  {
   "cell_type": "code",
   "execution_count": 45,
   "metadata": {},
   "outputs": [],
   "source": [
    "import pandas as pd\n",
    "import numpy as np\n",
    "import matplotlib.pyplot as plt\n",
    "import warnings\n",
    "warnings.filterwarnings('ignore')\n",
    "from datetime import datetime\n",
    "import itertools\n",
    "from sklearn import metrics\n",
    "\n",
    "import math\n",
    "\n",
    "# data visualization \n",
    "import matplotlib\n",
    "import matplotlib.pyplot as plt\n",
    "import seaborn as sns\n",
    "import statsmodels.api as sm\n",
    "from statsmodels.tsa.api import ExponentialSmoothing, SimpleExpSmoothing, Holt\n",
    "import statsmodels.api as sm\n",
    "from statsmodels.tsa.ar_model import AR\n",
    "\n",
    "from fbprophet import Prophet\n",
    "from matplotlib.dates import MonthLocator, num2date\n",
    "from matplotlib.ticker import FuncFormatter\n",
    "\n",
    "%matplotlib inline\n",
    "\n",
    "from sklearn.model_selection import TimeSeriesSplit\n",
    "\n",
    "# ignore warnings\n",
    "import warnings\n",
    "warnings.filterwarnings(\"ignore\")\n",
    "import acquire\n",
    "import prepare"
   ]
  },
  {
   "cell_type": "markdown",
   "metadata": {},
   "source": [
    "### Acquired fitbit data via acuire.py"
   ]
  },
  {
   "cell_type": "code",
   "execution_count": 46,
   "metadata": {},
   "outputs": [],
   "source": [
    "df = acquire.get_fitbit_data()"
   ]
  },
  {
   "cell_type": "code",
   "execution_count": 47,
   "metadata": {},
   "outputs": [
    {
     "data": {
      "text/plain": [
       "(225, 10)"
      ]
     },
     "execution_count": 47,
     "metadata": {},
     "output_type": "execute_result"
    }
   ],
   "source": [
    "df.shape"
   ]
  },
  {
   "cell_type": "markdown",
   "metadata": {},
   "source": [
    "### Rename columns to make them easier to use"
   ]
  },
  {
   "cell_type": "code",
   "execution_count": 48,
   "metadata": {
    "scrolled": false
   },
   "outputs": [
    {
     "data": {
      "text/html": [
       "<div>\n",
       "<style scoped>\n",
       "    .dataframe tbody tr th:only-of-type {\n",
       "        vertical-align: middle;\n",
       "    }\n",
       "\n",
       "    .dataframe tbody tr th {\n",
       "        vertical-align: top;\n",
       "    }\n",
       "\n",
       "    .dataframe thead th {\n",
       "        text-align: right;\n",
       "    }\n",
       "</style>\n",
       "<table border=\"1\" class=\"dataframe\">\n",
       "  <thead>\n",
       "    <tr style=\"text-align: right;\">\n",
       "      <th></th>\n",
       "      <th>date</th>\n",
       "      <th>calories_burned</th>\n",
       "      <th>steps</th>\n",
       "      <th>distance</th>\n",
       "      <th>floors</th>\n",
       "      <th>minutes_sedentary</th>\n",
       "      <th>minutes_lightly_active</th>\n",
       "      <th>minutes_fairly_active</th>\n",
       "      <th>minutes_very_active</th>\n",
       "      <th>activity_calories</th>\n",
       "    </tr>\n",
       "  </thead>\n",
       "  <tbody>\n",
       "    <tr>\n",
       "      <th>0</th>\n",
       "      <td>4/26/18</td>\n",
       "      <td>2,635</td>\n",
       "      <td>2,931</td>\n",
       "      <td>1.38</td>\n",
       "      <td>2</td>\n",
       "      <td>1,347</td>\n",
       "      <td>93</td>\n",
       "      <td>0</td>\n",
       "      <td>0</td>\n",
       "      <td>566</td>\n",
       "    </tr>\n",
       "  </tbody>\n",
       "</table>\n",
       "</div>"
      ],
      "text/plain": [
       "      date calories_burned  steps  distance  floors minutes_sedentary  \\\n",
       "0  4/26/18           2,635  2,931      1.38       2             1,347   \n",
       "\n",
       "   minutes_lightly_active  minutes_fairly_active  minutes_very_active  \\\n",
       "0                      93                      0                    0   \n",
       "\n",
       "  activity_calories  \n",
       "0               566  "
      ]
     },
     "execution_count": 48,
     "metadata": {},
     "output_type": "execute_result"
    }
   ],
   "source": [
    "df = df.rename(columns = {'Date':'date', 'Calories Burned':'calories_burned', 'Steps':'steps', 'Distance':'distance', 'Floors':'floors', 'Minutes Sedentary':'minutes_sedentary', 'Minutes Lightly Active':'minutes_lightly_active', 'Minutes Fairly Active':'minutes_fairly_active', 'Minutes Very Active':'minutes_very_active', 'Activity Calories':'activity_calories'})\n",
    "df.head(1)"
   ]
  },
  {
   "cell_type": "code",
   "execution_count": 49,
   "metadata": {},
   "outputs": [
    {
     "name": "stdout",
     "output_type": "stream",
     "text": [
      "<class 'pandas.core.frame.DataFrame'>\n",
      "RangeIndex: 225 entries, 0 to 224\n",
      "Data columns (total 10 columns):\n",
      "date                      225 non-null object\n",
      "calories_burned           225 non-null object\n",
      "steps                     225 non-null object\n",
      "distance                  225 non-null float64\n",
      "floors                    225 non-null int64\n",
      "minutes_sedentary         225 non-null object\n",
      "minutes_lightly_active    225 non-null int64\n",
      "minutes_fairly_active     225 non-null int64\n",
      "minutes_very_active       225 non-null int64\n",
      "activity_calories         225 non-null object\n",
      "dtypes: float64(1), int64(4), object(5)\n",
      "memory usage: 17.7+ KB\n"
     ]
    }
   ],
   "source": [
    "df.info()"
   ]
  },
  {
   "cell_type": "markdown",
   "metadata": {},
   "source": [
    "### Change object types into floats"
   ]
  },
  {
   "cell_type": "code",
   "execution_count": 50,
   "metadata": {},
   "outputs": [
    {
     "name": "stdout",
     "output_type": "stream",
     "text": [
      "<class 'pandas.core.frame.DataFrame'>\n",
      "RangeIndex: 225 entries, 0 to 224\n",
      "Data columns (total 10 columns):\n",
      "date                      225 non-null object\n",
      "calories_burned           225 non-null object\n",
      "steps                     225 non-null object\n",
      "distance                  225 non-null float64\n",
      "floors                    225 non-null int64\n",
      "minutes_sedentary         225 non-null object\n",
      "minutes_lightly_active    225 non-null int64\n",
      "minutes_fairly_active     225 non-null int64\n",
      "minutes_very_active       225 non-null int64\n",
      "activity_calories         225 non-null object\n",
      "dtypes: float64(1), int64(4), object(5)\n",
      "memory usage: 17.7+ KB\n"
     ]
    }
   ],
   "source": [
    "df.info()"
   ]
  },
  {
   "cell_type": "code",
   "execution_count": 51,
   "metadata": {},
   "outputs": [],
   "source": [
    "df.calories_burned = df.calories_burned.astype(str)\n",
    "df.calories_burned = df.calories_burned.str.replace(',', '').astype(float)\n",
    "\n",
    "df.minutes_sedentary = df.minutes_sedentary.astype(str)\n",
    "df.minutes_sedentary = df.minutes_sedentary.str.replace(',', '').astype(float)\n",
    "\n",
    "df.activity_calories = df.activity_calories.astype(str)\n",
    "df.activity_calories = df.activity_calories.str.replace(',', '').astype(float)\n",
    "\n",
    "df.steps = df.steps.astype(str)\n",
    "df.steps = df.steps.str.replace(',', '').astype(float)"
   ]
  },
  {
   "cell_type": "code",
   "execution_count": 52,
   "metadata": {},
   "outputs": [
    {
     "name": "stdout",
     "output_type": "stream",
     "text": [
      "<class 'pandas.core.frame.DataFrame'>\n",
      "RangeIndex: 225 entries, 0 to 224\n",
      "Data columns (total 10 columns):\n",
      "date                      225 non-null object\n",
      "calories_burned           225 non-null float64\n",
      "steps                     225 non-null float64\n",
      "distance                  225 non-null float64\n",
      "floors                    225 non-null int64\n",
      "minutes_sedentary         225 non-null float64\n",
      "minutes_lightly_active    225 non-null int64\n",
      "minutes_fairly_active     225 non-null int64\n",
      "minutes_very_active       225 non-null int64\n",
      "activity_calories         225 non-null float64\n",
      "dtypes: float64(5), int64(4), object(1)\n",
      "memory usage: 17.7+ KB\n"
     ]
    }
   ],
   "source": [
    "df.info()"
   ]
  },
  {
   "cell_type": "markdown",
   "metadata": {},
   "source": [
    "### Set column names to 'ds' and 'y' in order to feed into Prophet"
   ]
  },
  {
   "cell_type": "code",
   "execution_count": 252,
   "metadata": {},
   "outputs": [],
   "source": [
    "df1 = df[['date', 'minutes_fairly_active']]\n",
    "df1.columns = ['ds', 'y']"
   ]
  },
  {
   "cell_type": "code",
   "execution_count": 253,
   "metadata": {},
   "outputs": [
    {
     "data": {
      "text/html": [
       "<div>\n",
       "<style scoped>\n",
       "    .dataframe tbody tr th:only-of-type {\n",
       "        vertical-align: middle;\n",
       "    }\n",
       "\n",
       "    .dataframe tbody tr th {\n",
       "        vertical-align: top;\n",
       "    }\n",
       "\n",
       "    .dataframe thead th {\n",
       "        text-align: right;\n",
       "    }\n",
       "</style>\n",
       "<table border=\"1\" class=\"dataframe\">\n",
       "  <thead>\n",
       "    <tr style=\"text-align: right;\">\n",
       "      <th></th>\n",
       "      <th>ds</th>\n",
       "      <th>y</th>\n",
       "    </tr>\n",
       "  </thead>\n",
       "  <tbody>\n",
       "    <tr>\n",
       "      <th>0</th>\n",
       "      <td>4/26/18</td>\n",
       "      <td>0</td>\n",
       "    </tr>\n",
       "    <tr>\n",
       "      <th>1</th>\n",
       "      <td>4/27/18</td>\n",
       "      <td>46</td>\n",
       "    </tr>\n",
       "    <tr>\n",
       "      <th>2</th>\n",
       "      <td>4/28/18</td>\n",
       "      <td>22</td>\n",
       "    </tr>\n",
       "    <tr>\n",
       "      <th>3</th>\n",
       "      <td>4/29/18</td>\n",
       "      <td>0</td>\n",
       "    </tr>\n",
       "    <tr>\n",
       "      <th>4</th>\n",
       "      <td>4/30/18</td>\n",
       "      <td>0</td>\n",
       "    </tr>\n",
       "  </tbody>\n",
       "</table>\n",
       "</div>"
      ],
      "text/plain": [
       "        ds   y\n",
       "0  4/26/18   0\n",
       "1  4/27/18  46\n",
       "2  4/28/18  22\n",
       "3  4/29/18   0\n",
       "4  4/30/18   0"
      ]
     },
     "execution_count": 253,
     "metadata": {},
     "output_type": "execute_result"
    }
   ],
   "source": [
    "df1.head()"
   ]
  },
  {
   "cell_type": "code",
   "execution_count": 254,
   "metadata": {},
   "outputs": [],
   "source": [
    "df1.ds = pd.to_datetime(df1.ds)\n",
    "# df1 = df1.set_index(df1.ds).drop(columns='ds')"
   ]
  },
  {
   "cell_type": "code",
   "execution_count": 255,
   "metadata": {},
   "outputs": [
    {
     "data": {
      "text/html": [
       "<div>\n",
       "<style scoped>\n",
       "    .dataframe tbody tr th:only-of-type {\n",
       "        vertical-align: middle;\n",
       "    }\n",
       "\n",
       "    .dataframe tbody tr th {\n",
       "        vertical-align: top;\n",
       "    }\n",
       "\n",
       "    .dataframe thead th {\n",
       "        text-align: right;\n",
       "    }\n",
       "</style>\n",
       "<table border=\"1\" class=\"dataframe\">\n",
       "  <thead>\n",
       "    <tr style=\"text-align: right;\">\n",
       "      <th></th>\n",
       "      <th>ds</th>\n",
       "      <th>y</th>\n",
       "    </tr>\n",
       "  </thead>\n",
       "  <tbody>\n",
       "    <tr>\n",
       "      <th>0</th>\n",
       "      <td>2018-04-26</td>\n",
       "      <td>0</td>\n",
       "    </tr>\n",
       "    <tr>\n",
       "      <th>1</th>\n",
       "      <td>2018-04-27</td>\n",
       "      <td>46</td>\n",
       "    </tr>\n",
       "    <tr>\n",
       "      <th>2</th>\n",
       "      <td>2018-04-28</td>\n",
       "      <td>22</td>\n",
       "    </tr>\n",
       "    <tr>\n",
       "      <th>3</th>\n",
       "      <td>2018-04-29</td>\n",
       "      <td>0</td>\n",
       "    </tr>\n",
       "    <tr>\n",
       "      <th>4</th>\n",
       "      <td>2018-04-30</td>\n",
       "      <td>0</td>\n",
       "    </tr>\n",
       "  </tbody>\n",
       "</table>\n",
       "</div>"
      ],
      "text/plain": [
       "          ds   y\n",
       "0 2018-04-26   0\n",
       "1 2018-04-27  46\n",
       "2 2018-04-28  22\n",
       "3 2018-04-29   0\n",
       "4 2018-04-30   0"
      ]
     },
     "execution_count": 255,
     "metadata": {},
     "output_type": "execute_result"
    }
   ],
   "source": [
    "df1.head()"
   ]
  },
  {
   "cell_type": "code",
   "execution_count": 256,
   "metadata": {},
   "outputs": [
    {
     "data": {
      "text/plain": [
       "225"
      ]
     },
     "execution_count": 256,
     "metadata": {},
     "output_type": "execute_result"
    }
   ],
   "source": [
    "len(df)"
   ]
  },
  {
   "cell_type": "markdown",
   "metadata": {},
   "source": [
    "### Visualize data"
   ]
  },
  {
   "cell_type": "code",
   "execution_count": 257,
   "metadata": {
    "scrolled": true
   },
   "outputs": [],
   "source": [
    "# plt.plot('ds', 'y',data=df1)"
   ]
  },
  {
   "cell_type": "markdown",
   "metadata": {},
   "source": [
    "### Split into Train and Test"
   ]
  },
  {
   "cell_type": "code",
   "execution_count": 258,
   "metadata": {},
   "outputs": [],
   "source": [
    "train = df1.iloc[:211]\n",
    "test = df1.iloc[211:]"
   ]
  },
  {
   "cell_type": "markdown",
   "metadata": {},
   "source": [
    "### Create Prophet object, fit, and predict"
   ]
  },
  {
   "cell_type": "code",
   "execution_count": 259,
   "metadata": {},
   "outputs": [
    {
     "name": "stderr",
     "output_type": "stream",
     "text": [
      "INFO:fbprophet:Disabling yearly seasonality. Run prophet with yearly_seasonality=True to override this.\n",
      "INFO:fbprophet:Disabling daily seasonality. Run prophet with daily_seasonality=True to override this.\n"
     ]
    }
   ],
   "source": [
    "m = Prophet()\n",
    "\n",
    "m.fit(df1)\n",
    "\n",
    "#Create a placeholder dataframe\n",
    "\n",
    "future = m.make_future_dataframe(periods=14)\n",
    "\n",
    "forecast = m.predict(future)"
   ]
  },
  {
   "cell_type": "code",
   "execution_count": 229,
   "metadata": {},
   "outputs": [
    {
     "data": {
      "text/html": [
       "<div>\n",
       "<style scoped>\n",
       "    .dataframe tbody tr th:only-of-type {\n",
       "        vertical-align: middle;\n",
       "    }\n",
       "\n",
       "    .dataframe tbody tr th {\n",
       "        vertical-align: top;\n",
       "    }\n",
       "\n",
       "    .dataframe thead th {\n",
       "        text-align: right;\n",
       "    }\n",
       "</style>\n",
       "<table border=\"1\" class=\"dataframe\">\n",
       "  <thead>\n",
       "    <tr style=\"text-align: right;\">\n",
       "      <th></th>\n",
       "      <th>ds</th>\n",
       "      <th>trend</th>\n",
       "      <th>yhat_lower</th>\n",
       "      <th>yhat_upper</th>\n",
       "      <th>trend_lower</th>\n",
       "      <th>trend_upper</th>\n",
       "      <th>additive_terms</th>\n",
       "      <th>additive_terms_lower</th>\n",
       "      <th>additive_terms_upper</th>\n",
       "      <th>weekly</th>\n",
       "      <th>weekly_lower</th>\n",
       "      <th>weekly_upper</th>\n",
       "      <th>multiplicative_terms</th>\n",
       "      <th>multiplicative_terms_lower</th>\n",
       "      <th>multiplicative_terms_upper</th>\n",
       "      <th>yhat</th>\n",
       "    </tr>\n",
       "  </thead>\n",
       "  <tbody>\n",
       "    <tr>\n",
       "      <th>225</th>\n",
       "      <td>2018-12-07</td>\n",
       "      <td>71.641002</td>\n",
       "      <td>35.937062</td>\n",
       "      <td>115.916329</td>\n",
       "      <td>71.641002</td>\n",
       "      <td>71.641002</td>\n",
       "      <td>5.986497</td>\n",
       "      <td>5.986497</td>\n",
       "      <td>5.986497</td>\n",
       "      <td>5.986497</td>\n",
       "      <td>5.986497</td>\n",
       "      <td>5.986497</td>\n",
       "      <td>0.0</td>\n",
       "      <td>0.0</td>\n",
       "      <td>0.0</td>\n",
       "      <td>77.627500</td>\n",
       "    </tr>\n",
       "    <tr>\n",
       "      <th>226</th>\n",
       "      <td>2018-12-08</td>\n",
       "      <td>71.976110</td>\n",
       "      <td>40.814427</td>\n",
       "      <td>120.673594</td>\n",
       "      <td>71.976110</td>\n",
       "      <td>71.976110</td>\n",
       "      <td>8.391695</td>\n",
       "      <td>8.391695</td>\n",
       "      <td>8.391695</td>\n",
       "      <td>8.391695</td>\n",
       "      <td>8.391695</td>\n",
       "      <td>8.391695</td>\n",
       "      <td>0.0</td>\n",
       "      <td>0.0</td>\n",
       "      <td>0.0</td>\n",
       "      <td>80.367805</td>\n",
       "    </tr>\n",
       "    <tr>\n",
       "      <th>227</th>\n",
       "      <td>2018-12-09</td>\n",
       "      <td>72.311218</td>\n",
       "      <td>42.408461</td>\n",
       "      <td>119.045957</td>\n",
       "      <td>72.311216</td>\n",
       "      <td>72.311219</td>\n",
       "      <td>9.409984</td>\n",
       "      <td>9.409984</td>\n",
       "      <td>9.409984</td>\n",
       "      <td>9.409984</td>\n",
       "      <td>9.409984</td>\n",
       "      <td>9.409984</td>\n",
       "      <td>0.0</td>\n",
       "      <td>0.0</td>\n",
       "      <td>0.0</td>\n",
       "      <td>81.721202</td>\n",
       "    </tr>\n",
       "    <tr>\n",
       "      <th>228</th>\n",
       "      <td>2018-12-10</td>\n",
       "      <td>72.646325</td>\n",
       "      <td>27.667133</td>\n",
       "      <td>103.960679</td>\n",
       "      <td>72.646320</td>\n",
       "      <td>72.646331</td>\n",
       "      <td>-9.366635</td>\n",
       "      <td>-9.366635</td>\n",
       "      <td>-9.366635</td>\n",
       "      <td>-9.366635</td>\n",
       "      <td>-9.366635</td>\n",
       "      <td>-9.366635</td>\n",
       "      <td>0.0</td>\n",
       "      <td>0.0</td>\n",
       "      <td>0.0</td>\n",
       "      <td>63.279690</td>\n",
       "    </tr>\n",
       "    <tr>\n",
       "      <th>229</th>\n",
       "      <td>2018-12-11</td>\n",
       "      <td>72.981433</td>\n",
       "      <td>28.685034</td>\n",
       "      <td>104.899074</td>\n",
       "      <td>72.981423</td>\n",
       "      <td>72.981443</td>\n",
       "      <td>-5.952789</td>\n",
       "      <td>-5.952789</td>\n",
       "      <td>-5.952789</td>\n",
       "      <td>-5.952789</td>\n",
       "      <td>-5.952789</td>\n",
       "      <td>-5.952789</td>\n",
       "      <td>0.0</td>\n",
       "      <td>0.0</td>\n",
       "      <td>0.0</td>\n",
       "      <td>67.028644</td>\n",
       "    </tr>\n",
       "    <tr>\n",
       "      <th>230</th>\n",
       "      <td>2018-12-12</td>\n",
       "      <td>73.316541</td>\n",
       "      <td>27.875746</td>\n",
       "      <td>103.517254</td>\n",
       "      <td>73.316524</td>\n",
       "      <td>73.316555</td>\n",
       "      <td>-8.780011</td>\n",
       "      <td>-8.780011</td>\n",
       "      <td>-8.780011</td>\n",
       "      <td>-8.780011</td>\n",
       "      <td>-8.780011</td>\n",
       "      <td>-8.780011</td>\n",
       "      <td>0.0</td>\n",
       "      <td>0.0</td>\n",
       "      <td>0.0</td>\n",
       "      <td>64.536530</td>\n",
       "    </tr>\n",
       "    <tr>\n",
       "      <th>231</th>\n",
       "      <td>2018-12-13</td>\n",
       "      <td>73.651648</td>\n",
       "      <td>33.480953</td>\n",
       "      <td>111.927801</td>\n",
       "      <td>73.651624</td>\n",
       "      <td>73.651668</td>\n",
       "      <td>0.311259</td>\n",
       "      <td>0.311259</td>\n",
       "      <td>0.311259</td>\n",
       "      <td>0.311259</td>\n",
       "      <td>0.311259</td>\n",
       "      <td>0.311259</td>\n",
       "      <td>0.0</td>\n",
       "      <td>0.0</td>\n",
       "      <td>0.0</td>\n",
       "      <td>73.962907</td>\n",
       "    </tr>\n",
       "    <tr>\n",
       "      <th>232</th>\n",
       "      <td>2018-12-14</td>\n",
       "      <td>73.986756</td>\n",
       "      <td>42.937718</td>\n",
       "      <td>119.700352</td>\n",
       "      <td>73.986725</td>\n",
       "      <td>73.986783</td>\n",
       "      <td>5.986497</td>\n",
       "      <td>5.986497</td>\n",
       "      <td>5.986497</td>\n",
       "      <td>5.986497</td>\n",
       "      <td>5.986497</td>\n",
       "      <td>5.986497</td>\n",
       "      <td>0.0</td>\n",
       "      <td>0.0</td>\n",
       "      <td>0.0</td>\n",
       "      <td>79.973253</td>\n",
       "    </tr>\n",
       "    <tr>\n",
       "      <th>233</th>\n",
       "      <td>2018-12-15</td>\n",
       "      <td>74.321864</td>\n",
       "      <td>44.841489</td>\n",
       "      <td>122.265617</td>\n",
       "      <td>74.321825</td>\n",
       "      <td>74.321898</td>\n",
       "      <td>8.391695</td>\n",
       "      <td>8.391695</td>\n",
       "      <td>8.391695</td>\n",
       "      <td>8.391695</td>\n",
       "      <td>8.391695</td>\n",
       "      <td>8.391695</td>\n",
       "      <td>0.0</td>\n",
       "      <td>0.0</td>\n",
       "      <td>0.0</td>\n",
       "      <td>82.713558</td>\n",
       "    </tr>\n",
       "    <tr>\n",
       "      <th>234</th>\n",
       "      <td>2018-12-16</td>\n",
       "      <td>74.656971</td>\n",
       "      <td>42.581253</td>\n",
       "      <td>122.414298</td>\n",
       "      <td>74.656921</td>\n",
       "      <td>74.657014</td>\n",
       "      <td>9.409984</td>\n",
       "      <td>9.409984</td>\n",
       "      <td>9.409984</td>\n",
       "      <td>9.409984</td>\n",
       "      <td>9.409984</td>\n",
       "      <td>9.409984</td>\n",
       "      <td>0.0</td>\n",
       "      <td>0.0</td>\n",
       "      <td>0.0</td>\n",
       "      <td>84.066956</td>\n",
       "    </tr>\n",
       "    <tr>\n",
       "      <th>235</th>\n",
       "      <td>2018-12-17</td>\n",
       "      <td>74.992079</td>\n",
       "      <td>28.571446</td>\n",
       "      <td>104.176813</td>\n",
       "      <td>74.992021</td>\n",
       "      <td>74.992132</td>\n",
       "      <td>-9.366635</td>\n",
       "      <td>-9.366635</td>\n",
       "      <td>-9.366635</td>\n",
       "      <td>-9.366635</td>\n",
       "      <td>-9.366635</td>\n",
       "      <td>-9.366635</td>\n",
       "      <td>0.0</td>\n",
       "      <td>0.0</td>\n",
       "      <td>0.0</td>\n",
       "      <td>65.625444</td>\n",
       "    </tr>\n",
       "    <tr>\n",
       "      <th>236</th>\n",
       "      <td>2018-12-18</td>\n",
       "      <td>75.327187</td>\n",
       "      <td>28.332959</td>\n",
       "      <td>109.985817</td>\n",
       "      <td>75.327118</td>\n",
       "      <td>75.327249</td>\n",
       "      <td>-5.952789</td>\n",
       "      <td>-5.952789</td>\n",
       "      <td>-5.952789</td>\n",
       "      <td>-5.952789</td>\n",
       "      <td>-5.952789</td>\n",
       "      <td>-5.952789</td>\n",
       "      <td>0.0</td>\n",
       "      <td>0.0</td>\n",
       "      <td>0.0</td>\n",
       "      <td>69.374398</td>\n",
       "    </tr>\n",
       "    <tr>\n",
       "      <th>237</th>\n",
       "      <td>2018-12-19</td>\n",
       "      <td>75.662294</td>\n",
       "      <td>27.256527</td>\n",
       "      <td>108.378407</td>\n",
       "      <td>75.662214</td>\n",
       "      <td>75.662370</td>\n",
       "      <td>-8.780011</td>\n",
       "      <td>-8.780011</td>\n",
       "      <td>-8.780011</td>\n",
       "      <td>-8.780011</td>\n",
       "      <td>-8.780011</td>\n",
       "      <td>-8.780011</td>\n",
       "      <td>0.0</td>\n",
       "      <td>0.0</td>\n",
       "      <td>0.0</td>\n",
       "      <td>66.882283</td>\n",
       "    </tr>\n",
       "    <tr>\n",
       "      <th>238</th>\n",
       "      <td>2018-12-20</td>\n",
       "      <td>75.997402</td>\n",
       "      <td>40.192504</td>\n",
       "      <td>115.076492</td>\n",
       "      <td>75.997313</td>\n",
       "      <td>75.997486</td>\n",
       "      <td>0.311259</td>\n",
       "      <td>0.311259</td>\n",
       "      <td>0.311259</td>\n",
       "      <td>0.311259</td>\n",
       "      <td>0.311259</td>\n",
       "      <td>0.311259</td>\n",
       "      <td>0.0</td>\n",
       "      <td>0.0</td>\n",
       "      <td>0.0</td>\n",
       "      <td>76.308661</td>\n",
       "    </tr>\n",
       "  </tbody>\n",
       "</table>\n",
       "</div>"
      ],
      "text/plain": [
       "            ds      trend  yhat_lower  yhat_upper  trend_lower  trend_upper  \\\n",
       "225 2018-12-07  71.641002   35.937062  115.916329    71.641002    71.641002   \n",
       "226 2018-12-08  71.976110   40.814427  120.673594    71.976110    71.976110   \n",
       "227 2018-12-09  72.311218   42.408461  119.045957    72.311216    72.311219   \n",
       "228 2018-12-10  72.646325   27.667133  103.960679    72.646320    72.646331   \n",
       "229 2018-12-11  72.981433   28.685034  104.899074    72.981423    72.981443   \n",
       "230 2018-12-12  73.316541   27.875746  103.517254    73.316524    73.316555   \n",
       "231 2018-12-13  73.651648   33.480953  111.927801    73.651624    73.651668   \n",
       "232 2018-12-14  73.986756   42.937718  119.700352    73.986725    73.986783   \n",
       "233 2018-12-15  74.321864   44.841489  122.265617    74.321825    74.321898   \n",
       "234 2018-12-16  74.656971   42.581253  122.414298    74.656921    74.657014   \n",
       "235 2018-12-17  74.992079   28.571446  104.176813    74.992021    74.992132   \n",
       "236 2018-12-18  75.327187   28.332959  109.985817    75.327118    75.327249   \n",
       "237 2018-12-19  75.662294   27.256527  108.378407    75.662214    75.662370   \n",
       "238 2018-12-20  75.997402   40.192504  115.076492    75.997313    75.997486   \n",
       "\n",
       "     additive_terms  additive_terms_lower  additive_terms_upper    weekly  \\\n",
       "225        5.986497              5.986497              5.986497  5.986497   \n",
       "226        8.391695              8.391695              8.391695  8.391695   \n",
       "227        9.409984              9.409984              9.409984  9.409984   \n",
       "228       -9.366635             -9.366635             -9.366635 -9.366635   \n",
       "229       -5.952789             -5.952789             -5.952789 -5.952789   \n",
       "230       -8.780011             -8.780011             -8.780011 -8.780011   \n",
       "231        0.311259              0.311259              0.311259  0.311259   \n",
       "232        5.986497              5.986497              5.986497  5.986497   \n",
       "233        8.391695              8.391695              8.391695  8.391695   \n",
       "234        9.409984              9.409984              9.409984  9.409984   \n",
       "235       -9.366635             -9.366635             -9.366635 -9.366635   \n",
       "236       -5.952789             -5.952789             -5.952789 -5.952789   \n",
       "237       -8.780011             -8.780011             -8.780011 -8.780011   \n",
       "238        0.311259              0.311259              0.311259  0.311259   \n",
       "\n",
       "     weekly_lower  weekly_upper  multiplicative_terms  \\\n",
       "225      5.986497      5.986497                   0.0   \n",
       "226      8.391695      8.391695                   0.0   \n",
       "227      9.409984      9.409984                   0.0   \n",
       "228     -9.366635     -9.366635                   0.0   \n",
       "229     -5.952789     -5.952789                   0.0   \n",
       "230     -8.780011     -8.780011                   0.0   \n",
       "231      0.311259      0.311259                   0.0   \n",
       "232      5.986497      5.986497                   0.0   \n",
       "233      8.391695      8.391695                   0.0   \n",
       "234      9.409984      9.409984                   0.0   \n",
       "235     -9.366635     -9.366635                   0.0   \n",
       "236     -5.952789     -5.952789                   0.0   \n",
       "237     -8.780011     -8.780011                   0.0   \n",
       "238      0.311259      0.311259                   0.0   \n",
       "\n",
       "     multiplicative_terms_lower  multiplicative_terms_upper       yhat  \n",
       "225                         0.0                         0.0  77.627500  \n",
       "226                         0.0                         0.0  80.367805  \n",
       "227                         0.0                         0.0  81.721202  \n",
       "228                         0.0                         0.0  63.279690  \n",
       "229                         0.0                         0.0  67.028644  \n",
       "230                         0.0                         0.0  64.536530  \n",
       "231                         0.0                         0.0  73.962907  \n",
       "232                         0.0                         0.0  79.973253  \n",
       "233                         0.0                         0.0  82.713558  \n",
       "234                         0.0                         0.0  84.066956  \n",
       "235                         0.0                         0.0  65.625444  \n",
       "236                         0.0                         0.0  69.374398  \n",
       "237                         0.0                         0.0  66.882283  \n",
       "238                         0.0                         0.0  76.308661  "
      ]
     },
     "execution_count": 229,
     "metadata": {},
     "output_type": "execute_result"
    }
   ],
   "source": [
    "forecast.tail(14)"
   ]
  },
  {
   "cell_type": "code",
   "execution_count": 260,
   "metadata": {},
   "outputs": [
    {
     "data": {
      "text/plain": [
       "Index(['ds', 'trend', 'yhat_lower', 'yhat_upper', 'trend_lower', 'trend_upper',\n",
       "       'additive_terms', 'additive_terms_lower', 'additive_terms_upper',\n",
       "       'weekly', 'weekly_lower', 'weekly_upper', 'multiplicative_terms',\n",
       "       'multiplicative_terms_lower', 'multiplicative_terms_upper', 'yhat'],\n",
       "      dtype='object')"
      ]
     },
     "execution_count": 260,
     "metadata": {},
     "output_type": "execute_result"
    }
   ],
   "source": [
    "forecast.columns"
   ]
  },
  {
   "cell_type": "code",
   "execution_count": 261,
   "metadata": {},
   "outputs": [
    {
     "data": {
      "text/html": [
       "<div>\n",
       "<style scoped>\n",
       "    .dataframe tbody tr th:only-of-type {\n",
       "        vertical-align: middle;\n",
       "    }\n",
       "\n",
       "    .dataframe tbody tr th {\n",
       "        vertical-align: top;\n",
       "    }\n",
       "\n",
       "    .dataframe thead th {\n",
       "        text-align: right;\n",
       "    }\n",
       "</style>\n",
       "<table border=\"1\" class=\"dataframe\">\n",
       "  <thead>\n",
       "    <tr style=\"text-align: right;\">\n",
       "      <th></th>\n",
       "      <th>ds</th>\n",
       "      <th>yhat_lower</th>\n",
       "      <th>yhat_upper</th>\n",
       "      <th>yhat</th>\n",
       "    </tr>\n",
       "  </thead>\n",
       "  <tbody>\n",
       "    <tr>\n",
       "      <th>225</th>\n",
       "      <td>2018-12-07</td>\n",
       "      <td>2.841944</td>\n",
       "      <td>38.595827</td>\n",
       "      <td>20.401854</td>\n",
       "    </tr>\n",
       "    <tr>\n",
       "      <th>226</th>\n",
       "      <td>2018-12-08</td>\n",
       "      <td>8.175089</td>\n",
       "      <td>45.462921</td>\n",
       "      <td>26.558063</td>\n",
       "    </tr>\n",
       "    <tr>\n",
       "      <th>227</th>\n",
       "      <td>2018-12-09</td>\n",
       "      <td>8.989528</td>\n",
       "      <td>46.339022</td>\n",
       "      <td>26.933087</td>\n",
       "    </tr>\n",
       "    <tr>\n",
       "      <th>228</th>\n",
       "      <td>2018-12-10</td>\n",
       "      <td>-1.606070</td>\n",
       "      <td>35.046338</td>\n",
       "      <td>16.214480</td>\n",
       "    </tr>\n",
       "    <tr>\n",
       "      <th>229</th>\n",
       "      <td>2018-12-11</td>\n",
       "      <td>-5.831365</td>\n",
       "      <td>32.088886</td>\n",
       "      <td>13.964514</td>\n",
       "    </tr>\n",
       "    <tr>\n",
       "      <th>230</th>\n",
       "      <td>2018-12-12</td>\n",
       "      <td>-3.527122</td>\n",
       "      <td>32.694601</td>\n",
       "      <td>14.995756</td>\n",
       "    </tr>\n",
       "    <tr>\n",
       "      <th>231</th>\n",
       "      <td>2018-12-13</td>\n",
       "      <td>-2.959799</td>\n",
       "      <td>34.422875</td>\n",
       "      <td>15.556116</td>\n",
       "    </tr>\n",
       "    <tr>\n",
       "      <th>232</th>\n",
       "      <td>2018-12-14</td>\n",
       "      <td>3.952118</td>\n",
       "      <td>38.949287</td>\n",
       "      <td>20.651342</td>\n",
       "    </tr>\n",
       "    <tr>\n",
       "      <th>233</th>\n",
       "      <td>2018-12-15</td>\n",
       "      <td>8.329957</td>\n",
       "      <td>44.654975</td>\n",
       "      <td>26.807550</td>\n",
       "    </tr>\n",
       "    <tr>\n",
       "      <th>234</th>\n",
       "      <td>2018-12-16</td>\n",
       "      <td>8.736140</td>\n",
       "      <td>43.878453</td>\n",
       "      <td>27.182574</td>\n",
       "    </tr>\n",
       "    <tr>\n",
       "      <th>235</th>\n",
       "      <td>2018-12-17</td>\n",
       "      <td>-1.675654</td>\n",
       "      <td>33.449114</td>\n",
       "      <td>16.463967</td>\n",
       "    </tr>\n",
       "    <tr>\n",
       "      <th>236</th>\n",
       "      <td>2018-12-18</td>\n",
       "      <td>-3.941375</td>\n",
       "      <td>31.255179</td>\n",
       "      <td>14.214001</td>\n",
       "    </tr>\n",
       "    <tr>\n",
       "      <th>237</th>\n",
       "      <td>2018-12-19</td>\n",
       "      <td>-3.629846</td>\n",
       "      <td>33.954311</td>\n",
       "      <td>15.245244</td>\n",
       "    </tr>\n",
       "    <tr>\n",
       "      <th>238</th>\n",
       "      <td>2018-12-20</td>\n",
       "      <td>-2.484301</td>\n",
       "      <td>33.431694</td>\n",
       "      <td>15.805603</td>\n",
       "    </tr>\n",
       "  </tbody>\n",
       "</table>\n",
       "</div>"
      ],
      "text/plain": [
       "            ds  yhat_lower  yhat_upper       yhat\n",
       "225 2018-12-07    2.841944   38.595827  20.401854\n",
       "226 2018-12-08    8.175089   45.462921  26.558063\n",
       "227 2018-12-09    8.989528   46.339022  26.933087\n",
       "228 2018-12-10   -1.606070   35.046338  16.214480\n",
       "229 2018-12-11   -5.831365   32.088886  13.964514\n",
       "230 2018-12-12   -3.527122   32.694601  14.995756\n",
       "231 2018-12-13   -2.959799   34.422875  15.556116\n",
       "232 2018-12-14    3.952118   38.949287  20.651342\n",
       "233 2018-12-15    8.329957   44.654975  26.807550\n",
       "234 2018-12-16    8.736140   43.878453  27.182574\n",
       "235 2018-12-17   -1.675654   33.449114  16.463967\n",
       "236 2018-12-18   -3.941375   31.255179  14.214001\n",
       "237 2018-12-19   -3.629846   33.954311  15.245244\n",
       "238 2018-12-20   -2.484301   33.431694  15.805603"
      ]
     },
     "execution_count": 261,
     "metadata": {},
     "output_type": "execute_result"
    }
   ],
   "source": [
    "forecast[['ds', 'yhat_lower', 'yhat_upper', 'yhat']].tail(14)"
   ]
  },
  {
   "cell_type": "markdown",
   "metadata": {},
   "source": [
    "### Validation:  Compare Predictions to Actual data with Root Mean Square Error"
   ]
  },
  {
   "cell_type": "code",
   "execution_count": 262,
   "metadata": {},
   "outputs": [],
   "source": [
    "from statsmodels.tools.eval_measures import rmse"
   ]
  },
  {
   "cell_type": "code",
   "execution_count": 263,
   "metadata": {},
   "outputs": [],
   "source": [
    "predictions = forecast.iloc[-14:]['yhat']"
   ]
  },
  {
   "cell_type": "code",
   "execution_count": 264,
   "metadata": {},
   "outputs": [
    {
     "data": {
      "text/plain": [
       "225    20.401854\n",
       "226    26.558063\n",
       "227    26.933087\n",
       "228    16.214480\n",
       "229    13.964514\n",
       "230    14.995756\n",
       "231    15.556116\n",
       "232    20.651342\n",
       "233    26.807550\n",
       "234    27.182574\n",
       "235    16.463967\n",
       "236    14.214001\n",
       "237    15.245244\n",
       "238    15.805603\n",
       "Name: yhat, dtype: float64"
      ]
     },
     "execution_count": 264,
     "metadata": {},
     "output_type": "execute_result"
    }
   ],
   "source": [
    "predictions"
   ]
  },
  {
   "cell_type": "code",
   "execution_count": 265,
   "metadata": {},
   "outputs": [
    {
     "data": {
      "text/plain": [
       "211    23\n",
       "212    13\n",
       "213     3\n",
       "214    10\n",
       "215    12\n",
       "216     0\n",
       "217    15\n",
       "218    12\n",
       "219    22\n",
       "220    13\n",
       "221    40\n",
       "222    11\n",
       "223    12\n",
       "224     4\n",
       "Name: y, dtype: int64"
      ]
     },
     "execution_count": 265,
     "metadata": {},
     "output_type": "execute_result"
    }
   ],
   "source": [
    "test.y"
   ]
  },
  {
   "cell_type": "markdown",
   "metadata": {},
   "source": [
    "#### Calories Burned RMSE"
   ]
  },
  {
   "cell_type": "code",
   "execution_count": 111,
   "metadata": {},
   "outputs": [
    {
     "name": "stdout",
     "output_type": "stream",
     "text": [
      "Root Mean Squared = 411.4042643009861\n",
      "Mean = y    3551.5\n",
      "dtype: float64\n"
     ]
    }
   ],
   "source": [
    "# print(f'Root Mean Squared = {rmse(predictions, test.y)}')\n",
    "# print(f'Mean = {test.mean()}')"
   ]
  },
  {
   "cell_type": "markdown",
   "metadata": {},
   "source": [
    "#### Steps RMSE"
   ]
  },
  {
   "cell_type": "code",
   "execution_count": 130,
   "metadata": {},
   "outputs": [
    {
     "name": "stdout",
     "output_type": "stream",
     "text": [
      "Root Mean Squared = 3878.392290279098\n",
      "Mean = y    12152.5\n",
      "dtype: float64\n"
     ]
    }
   ],
   "source": [
    "# print(f'Root Mean Squared = {rmse(predictions, test.y)}')\n",
    "# print(f'Mean = {test.mean()}')"
   ]
  },
  {
   "cell_type": "markdown",
   "metadata": {},
   "source": [
    "#### Distance RMSE"
   ]
  },
  {
   "cell_type": "code",
   "execution_count": 149,
   "metadata": {},
   "outputs": [
    {
     "name": "stdout",
     "output_type": "stream",
     "text": [
      "Root Mean Squared = 1.8220916389728496\n",
      "Mean = y    5.940714\n",
      "dtype: float64\n"
     ]
    }
   ],
   "source": [
    "# print(f'Root Mean Squared = {rmse(predictions, test.y)}')\n",
    "# print(f'Mean = {test.mean()}')"
   ]
  },
  {
   "cell_type": "markdown",
   "metadata": {},
   "source": [
    "#### Floors RMSE"
   ]
  },
  {
   "cell_type": "code",
   "execution_count": 167,
   "metadata": {},
   "outputs": [
    {
     "name": "stdout",
     "output_type": "stream",
     "text": [
      "Root Mean Squared = 44.66243059470026\n",
      "Mean = y    26.214286\n",
      "dtype: float64\n"
     ]
    }
   ],
   "source": [
    "# print(f'Root Mean Squared = {rmse(predictions, test.y)}')\n",
    "# print(f'Mean = {test.mean()}')"
   ]
  },
  {
   "cell_type": "markdown",
   "metadata": {},
   "source": [
    "#### Minutes Sedentary RMSE"
   ]
  },
  {
   "cell_type": "code",
   "execution_count": 184,
   "metadata": {},
   "outputs": [
    {
     "name": "stdout",
     "output_type": "stream",
     "text": [
      "Root Mean Squared = 97.95218453375075\n",
      "Mean = y    657.428571\n",
      "dtype: float64\n"
     ]
    }
   ],
   "source": [
    "# print(f'Root Mean Squared = {rmse(predictions, test.y)}')\n",
    "# print(f'Mean = {test.mean()}')"
   ]
  },
  {
   "cell_type": "markdown",
   "metadata": {},
   "source": [
    "#### Minutes Lightly Active RMSE"
   ]
  },
  {
   "cell_type": "code",
   "execution_count": 202,
   "metadata": {},
   "outputs": [
    {
     "name": "stdout",
     "output_type": "stream",
     "text": [
      "Root Mean Squared = 31.524176908452564\n",
      "Mean = y    236.071429\n",
      "dtype: float64\n"
     ]
    }
   ],
   "source": [
    "# print(f'Root Mean Squared = {rmse(predictions, test.y)}')\n",
    "# print(f'Mean = {test.mean()}')"
   ]
  },
  {
   "cell_type": "markdown",
   "metadata": {},
   "source": [
    "#### Minutes Fairly Active RMSE"
   ]
  },
  {
   "cell_type": "code",
   "execution_count": 220,
   "metadata": {},
   "outputs": [
    {
     "name": "stdout",
     "output_type": "stream",
     "text": [
      "Root Mean Squared = 12.083954203895848\n",
      "Mean = y    13.571429\n",
      "dtype: float64\n"
     ]
    }
   ],
   "source": [
    "# print(f'Root Mean Squared = {rmse(predictions, test.y)}')\n",
    "# print(f'Mean = {test.mean()}')"
   ]
  },
  {
   "cell_type": "markdown",
   "metadata": {},
   "source": [
    "#### Minutes very Active RMSE"
   ]
  },
  {
   "cell_type": "code",
   "execution_count": 236,
   "metadata": {},
   "outputs": [
    {
     "name": "stdout",
     "output_type": "stream",
     "text": [
      "Root Mean Squared = 39.413032023100584\n",
      "Mean = y    49.928571\n",
      "dtype: float64\n"
     ]
    }
   ],
   "source": [
    "# print(f'Root Mean Squared = {rmse(predictions, test.y)}')\n",
    "# print(f'Mean = {test.mean()}')"
   ]
  },
  {
   "cell_type": "markdown",
   "metadata": {},
   "source": [
    "#### Activity Calories RMSE"
   ]
  },
  {
   "cell_type": "code",
   "execution_count": 250,
   "metadata": {},
   "outputs": [
    {
     "name": "stdout",
     "output_type": "stream",
     "text": [
      "Root Mean Squared = 475.6033820099179\n",
      "Mean = y    1856.357143\n",
      "dtype: float64\n"
     ]
    }
   ],
   "source": [
    "# print(f'Root Mean Squared = {rmse(predictions, test.y)}')\n",
    "# print(f'Mean = {test.mean()}')"
   ]
  },
  {
   "cell_type": "code",
   "execution_count": null,
   "metadata": {},
   "outputs": [],
   "source": []
  },
  {
   "cell_type": "markdown",
   "metadata": {},
   "source": [
    "### Visualize Predictions vs True Test Data"
   ]
  },
  {
   "cell_type": "markdown",
   "metadata": {},
   "source": [
    "#### Calories Burned Visualization"
   ]
  },
  {
   "cell_type": "code",
   "execution_count": 28,
   "metadata": {},
   "outputs": [
    {
     "data": {
      "text/plain": [
       "<matplotlib.axes._subplots.AxesSubplot at 0x1c218b8cc0>"
      ]
     },
     "execution_count": 28,
     "metadata": {},
     "output_type": "execute_result"
    },
    {
     "data": {
      "image/png": "[encoded data removed]",
      "text/plain": [
       "<Figure size 432x288 with 1 Axes>"
      ]
     },
     "metadata": {
      "needs_background": "light"
     },
     "output_type": "display_data"
    }
   ],
   "source": [
    "pd.plotting.register_matplotlib_converters()\n",
    "ax = forecast.plot(x='ds', y='yhat', label='Predictions', legend=True)\n",
    "test.plot(x='ds', y='y', label='True Test Data', legend=True, ax=ax, xlim=('2018-11-23', '2018-12-06'))\n"
   ]
  },
  {
   "cell_type": "markdown",
   "metadata": {},
   "source": [
    "#### Steps Visualization "
   ]
  },
  {
   "cell_type": "code",
   "execution_count": 131,
   "metadata": {},
   "outputs": [
    {
     "data": {
      "text/plain": [
       "<matplotlib.axes._subplots.AxesSubplot at 0x1c22fc06a0>"
      ]
     },
     "execution_count": 131,
     "metadata": {},
     "output_type": "execute_result"
    },
    {
     "data": {
      "image/png": "[encoded data removed]",
      "text/plain": [
       "<Figure size 432x288 with 1 Axes>"
      ]
     },
     "metadata": {
      "needs_background": "light"
     },
     "output_type": "display_data"
    }
   ],
   "source": [
    "pd.plotting.register_matplotlib_converters()\n",
    "ax = forecast.plot(x='ds', y='yhat', label='Predictions', legend=True)\n",
    "test.plot(x='ds', y='y', label='True Test Data', legend=True, ax=ax, xlim=('2018-11-23', '2018-12-06'))\n",
    "\n"
   ]
  },
  {
   "cell_type": "markdown",
   "metadata": {},
   "source": [
    "#### Distance Visualization"
   ]
  },
  {
   "cell_type": "code",
   "execution_count": 150,
   "metadata": {},
   "outputs": [
    {
     "data": {
      "text/plain": [
       "<matplotlib.axes._subplots.AxesSubplot at 0x1c22f80208>"
      ]
     },
     "execution_count": 150,
     "metadata": {},
     "output_type": "execute_result"
    },
    {
     "data": {
      "image/png": "[encoded data removed]",
      "text/plain": [
       "<Figure size 432x288 with 1 Axes>"
      ]
     },
     "metadata": {
      "needs_background": "light"
     },
     "output_type": "display_data"
    }
   ],
   "source": [
    "pd.plotting.register_matplotlib_converters()\n",
    "ax = forecast.plot(x='ds', y='yhat', label='Predictions', legend=True)\n",
    "test.plot(x='ds', y='y', label='True Test Data', legend=True, ax=ax, xlim=('2018-11-23', '2018-12-06'))\n",
    "\n"
   ]
  },
  {
   "cell_type": "markdown",
   "metadata": {},
   "source": [
    "#### Floors"
   ]
  },
  {
   "cell_type": "code",
   "execution_count": 168,
   "metadata": {},
   "outputs": [
    {
     "data": {
      "text/plain": [
       "<matplotlib.axes._subplots.AxesSubplot at 0x1c22feca58>"
      ]
     },
     "execution_count": 168,
     "metadata": {},
     "output_type": "execute_result"
    },
    {
     "data": {
      "image/png": "[encoded data removed]",
      "text/plain": [
       "<Figure size 432x288 with 1 Axes>"
      ]
     },
     "metadata": {
      "needs_background": "light"
     },
     "output_type": "display_data"
    }
   ],
   "source": [
    "pd.plotting.register_matplotlib_converters()\n",
    "ax = forecast.plot(x='ds', y='yhat', label='Predictions', legend=True)\n",
    "test.plot(x='ds', y='y', label='True Test Data', legend=True, ax=ax, xlim=('2018-11-23', '2018-12-06'))\n",
    "\n"
   ]
  },
  {
   "cell_type": "markdown",
   "metadata": {},
   "source": [
    "#### Minutes Sedentary"
   ]
  },
  {
   "cell_type": "code",
   "execution_count": 185,
   "metadata": {},
   "outputs": [
    {
     "data": {
      "text/plain": [
       "<matplotlib.axes._subplots.AxesSubplot at 0x1c22fd15f8>"
      ]
     },
     "execution_count": 185,
     "metadata": {},
     "output_type": "execute_result"
    },
    {
     "data": {
      "image/png": "[encoded data removed]",
      "text/plain": [
       "<Figure size 432x288 with 1 Axes>"
      ]
     },
     "metadata": {
      "needs_background": "light"
     },
     "output_type": "display_data"
    }
   ],
   "source": [
    "pd.plotting.register_matplotlib_converters()\n",
    "ax = forecast.plot(x='ds', y='yhat', label='Predictions', legend=True)\n",
    "test.plot(x='ds', y='y', label='True Test Data', legend=True, ax=ax, xlim=('2018-11-23', '2018-12-06'))\n",
    "\n"
   ]
  },
  {
   "cell_type": "markdown",
   "metadata": {},
   "source": [
    "#### Minutes Lightly Active"
   ]
  },
  {
   "cell_type": "code",
   "execution_count": 203,
   "metadata": {},
   "outputs": [
    {
     "data": {
      "text/plain": [
       "<matplotlib.axes._subplots.AxesSubplot at 0x1c22f978d0>"
      ]
     },
     "execution_count": 203,
     "metadata": {},
     "output_type": "execute_result"
    },
    {
     "data": {
      "image/png": "[encoded data removed]",
      "text/plain": [
       "<Figure size 432x288 with 1 Axes>"
      ]
     },
     "metadata": {
      "needs_background": "light"
     },
     "output_type": "display_data"
    }
   ],
   "source": [
    "pd.plotting.register_matplotlib_converters()\n",
    "ax = forecast.plot(x='ds', y='yhat', label='Predictions', legend=True)\n",
    "test.plot(x='ds', y='y', label='True Test Data', legend=True, ax=ax, xlim=('2018-11-23', '2018-12-06'))\n",
    "\n"
   ]
  },
  {
   "cell_type": "markdown",
   "metadata": {},
   "source": [
    "#### Minutes Fairly Active"
   ]
  },
  {
   "cell_type": "code",
   "execution_count": 266,
   "metadata": {},
   "outputs": [
    {
     "data": {
      "text/plain": [
       "<matplotlib.axes._subplots.AxesSubplot at 0x1c23776cc0>"
      ]
     },
     "execution_count": 266,
     "metadata": {},
     "output_type": "execute_result"
    },
    {
     "data": {
      "image/png": "[encoded data removed]",
      "text/plain": [
       "<Figure size 432x288 with 1 Axes>"
      ]
     },
     "metadata": {
      "needs_background": "light"
     },
     "output_type": "display_data"
    }
   ],
   "source": [
    "pd.plotting.register_matplotlib_converters()\n",
    "ax = forecast.plot(x='ds', y='yhat', label='Predictions', legend=True)\n",
    "test.plot(x='ds', y='y', label='True Test Data', legend=True, ax=ax, xlim=('2018-11-23', '2018-12-06'))\n",
    "\n"
   ]
  },
  {
   "cell_type": "markdown",
   "metadata": {},
   "source": [
    "#### Minutes Very Active"
   ]
  },
  {
   "cell_type": "code",
   "execution_count": 237,
   "metadata": {},
   "outputs": [
    {
     "data": {
      "text/plain": [
       "<matplotlib.axes._subplots.AxesSubplot at 0x1c23cdd6a0>"
      ]
     },
     "execution_count": 237,
     "metadata": {},
     "output_type": "execute_result"
    },
    {
     "data": {
      "image/png": "[encoded data removed]",
      "text/plain": [
       "<Figure size 432x288 with 1 Axes>"
      ]
     },
     "metadata": {
      "needs_background": "light"
     },
     "output_type": "display_data"
    }
   ],
   "source": [
    "pd.plotting.register_matplotlib_converters()\n",
    "ax = forecast.plot(x='ds', y='yhat', label='Predictions', legend=True)\n",
    "test.plot(x='ds', y='y', label='True Test Data', legend=True, ax=ax, xlim=('2018-11-23', '2018-12-06'))\n",
    "\n"
   ]
  },
  {
   "cell_type": "markdown",
   "metadata": {},
   "source": [
    "#### Activity Calories"
   ]
  },
  {
   "cell_type": "code",
   "execution_count": 251,
   "metadata": {},
   "outputs": [
    {
     "data": {
      "text/plain": [
       "<matplotlib.axes._subplots.AxesSubplot at 0x1c23d27f60>"
      ]
     },
     "execution_count": 251,
     "metadata": {},
     "output_type": "execute_result"
    },
    {
     "data": {
      "image/png": "[encoded data removed]",
      "text/plain": [
       "<Figure size 432x288 with 1 Axes>"
      ]
     },
     "metadata": {
      "needs_background": "light"
     },
     "output_type": "display_data"
    }
   ],
   "source": [
    "pd.plotting.register_matplotlib_converters()\n",
    "ax = forecast.plot(x='ds', y='yhat', label='Predictions', legend=True)\n",
    "test.plot(x='ds', y='y', label='True Test Data', legend=True, ax=ax, xlim=('2018-11-23', '2018-12-06'))\n",
    "\n"
   ]
  },
  {
   "cell_type": "code",
   "execution_count": null,
   "metadata": {},
   "outputs": [],
   "source": []
  }
 ],
 "metadata": {
  "kernelspec": {
   "display_name": "Python 3",
   "language": "python",
   "name": "python3"
  },
  "language_info": {
   "codemirror_mode": {
    "name": "ipython",
    "version": 3
   },
   "file_extension": ".py",
   "mimetype": "text/x-python",
   "name": "python",
   "nbconvert_exporter": "python",
   "pygments_lexer": "ipython3",
   "version": "3.7.3"
  }
 },
 "nbformat": 4,
 "nbformat_minor": 2
}

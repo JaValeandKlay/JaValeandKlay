{
 "cells": [
  {
   "cell_type": "markdown",
   "metadata": {},
   "source": [
    "Fitbit data for one individual.  Looks like a he/she left it off from time to time.  Assuming sleep and work for monday through friday, 2/3 of the day is sedentary.  "
   ]
  },
  {
   "cell_type": "code",
   "execution_count": 1,
   "metadata": {},
   "outputs": [
    {
     "name": "stderr",
     "output_type": "stream",
     "text": [
      "ERROR:fbprophet:Importing plotly failed. Interactive plots will not work.\n"
     ]
    }
   ],
   "source": [
    "import pandas as pd\n",
    "import numpy as np\n",
    "import matplotlib.pyplot as plt\n",
    "import warnings\n",
    "warnings.filterwarnings('ignore')\n",
    "from datetime import datetime\n",
    "import itertools\n",
    "from sklearn import metrics\n",
    "\n",
    "import math\n",
    "\n",
    "# data visualization \n",
    "import matplotlib\n",
    "import matplotlib.pyplot as plt\n",
    "import seaborn as sns\n",
    "import statsmodels.api as sm\n",
    "from statsmodels.tsa.api import ExponentialSmoothing, SimpleExpSmoothing, Holt\n",
    "import statsmodels.api as sm\n",
    "from statsmodels.tsa.ar_model import AR\n",
    "\n",
    "from fbprophet import Prophet\n",
    "from matplotlib.dates import MonthLocator, num2date\n",
    "from matplotlib.ticker import FuncFormatter\n",
    "\n",
    "%matplotlib inline\n",
    "\n",
    "from sklearn.model_selection import TimeSeriesSplit\n",
    "\n",
    "# ignore warnings\n",
    "import warnings\n",
    "warnings.filterwarnings(\"ignore\")\n",
    "import acquire\n",
    "import prepare"
   ]
  },
  {
   "cell_type": "markdown",
   "metadata": {},
   "source": [
    "I put above data into my acquire_fitbit_data function"
   ]
  },
  {
   "cell_type": "code",
   "execution_count": 2,
   "metadata": {},
   "outputs": [],
   "source": [
    "df = acquire.get_fitbit_data()"
   ]
  },
  {
   "cell_type": "code",
   "execution_count": 3,
   "metadata": {},
   "outputs": [
    {
     "data": {
      "text/plain": [
       "(225, 10)"
      ]
     },
     "execution_count": 3,
     "metadata": {},
     "output_type": "execute_result"
    }
   ],
   "source": [
    "df.shape"
   ]
  },
  {
   "cell_type": "code",
   "execution_count": 4,
   "metadata": {},
   "outputs": [
    {
     "data": {
      "text/html": [
       "<div>\n",
       "<style scoped>\n",
       "    .dataframe tbody tr th:only-of-type {\n",
       "        vertical-align: middle;\n",
       "    }\n",
       "\n",
       "    .dataframe tbody tr th {\n",
       "        vertical-align: top;\n",
       "    }\n",
       "\n",
       "    .dataframe thead th {\n",
       "        text-align: right;\n",
       "    }\n",
       "</style>\n",
       "<table border=\"1\" class=\"dataframe\">\n",
       "  <thead>\n",
       "    <tr style=\"text-align: right;\">\n",
       "      <th></th>\n",
       "      <th>Date</th>\n",
       "      <th>Calories Burned</th>\n",
       "      <th>Steps</th>\n",
       "      <th>Distance</th>\n",
       "      <th>Floors</th>\n",
       "      <th>Minutes Sedentary</th>\n",
       "      <th>Minutes Lightly Active</th>\n",
       "      <th>Minutes Fairly Active</th>\n",
       "      <th>Minutes Very Active</th>\n",
       "      <th>Activity Calories</th>\n",
       "    </tr>\n",
       "  </thead>\n",
       "  <tbody>\n",
       "    <tr>\n",
       "      <th>0</th>\n",
       "      <td>4/26/18</td>\n",
       "      <td>2,635</td>\n",
       "      <td>2,931</td>\n",
       "      <td>1.38</td>\n",
       "      <td>2</td>\n",
       "      <td>1,347</td>\n",
       "      <td>93</td>\n",
       "      <td>0</td>\n",
       "      <td>0</td>\n",
       "      <td>566</td>\n",
       "    </tr>\n",
       "    <tr>\n",
       "      <th>1</th>\n",
       "      <td>4/27/18</td>\n",
       "      <td>3,649</td>\n",
       "      <td>9,971</td>\n",
       "      <td>4.70</td>\n",
       "      <td>19</td>\n",
       "      <td>1,158</td>\n",
       "      <td>219</td>\n",
       "      <td>46</td>\n",
       "      <td>17</td>\n",
       "      <td>1,752</td>\n",
       "    </tr>\n",
       "    <tr>\n",
       "      <th>2</th>\n",
       "      <td>4/28/18</td>\n",
       "      <td>3,379</td>\n",
       "      <td>3,521</td>\n",
       "      <td>1.66</td>\n",
       "      <td>2</td>\n",
       "      <td>702</td>\n",
       "      <td>155</td>\n",
       "      <td>22</td>\n",
       "      <td>11</td>\n",
       "      <td>1,124</td>\n",
       "    </tr>\n",
       "    <tr>\n",
       "      <th>3</th>\n",
       "      <td>4/29/18</td>\n",
       "      <td>2,851</td>\n",
       "      <td>1,639</td>\n",
       "      <td>0.77</td>\n",
       "      <td>0</td>\n",
       "      <td>891</td>\n",
       "      <td>122</td>\n",
       "      <td>0</td>\n",
       "      <td>0</td>\n",
       "      <td>602</td>\n",
       "    </tr>\n",
       "    <tr>\n",
       "      <th>4</th>\n",
       "      <td>4/30/18</td>\n",
       "      <td>2,825</td>\n",
       "      <td>1,323</td>\n",
       "      <td>0.62</td>\n",
       "      <td>0</td>\n",
       "      <td>880</td>\n",
       "      <td>104</td>\n",
       "      <td>0</td>\n",
       "      <td>0</td>\n",
       "      <td>540</td>\n",
       "    </tr>\n",
       "  </tbody>\n",
       "</table>\n",
       "</div>"
      ],
      "text/plain": [
       "      Date Calories Burned  Steps  Distance  Floors Minutes Sedentary  \\\n",
       "0  4/26/18           2,635  2,931      1.38       2             1,347   \n",
       "1  4/27/18           3,649  9,971      4.70      19             1,158   \n",
       "2  4/28/18           3,379  3,521      1.66       2               702   \n",
       "3  4/29/18           2,851  1,639      0.77       0               891   \n",
       "4  4/30/18           2,825  1,323      0.62       0               880   \n",
       "\n",
       "   Minutes Lightly Active  Minutes Fairly Active  Minutes Very Active  \\\n",
       "0                      93                      0                    0   \n",
       "1                     219                     46                   17   \n",
       "2                     155                     22                   11   \n",
       "3                     122                      0                    0   \n",
       "4                     104                      0                    0   \n",
       "\n",
       "  Activity Calories  \n",
       "0               566  \n",
       "1             1,752  \n",
       "2             1,124  \n",
       "3               602  \n",
       "4               540  "
      ]
     },
     "execution_count": 4,
     "metadata": {},
     "output_type": "execute_result"
    }
   ],
   "source": [
    "df.head()"
   ]
  },
  {
   "cell_type": "code",
   "execution_count": 5,
   "metadata": {},
   "outputs": [],
   "source": [
    "df = prepare.prepare_fitbit_data(df)"
   ]
  },
  {
   "cell_type": "code",
   "execution_count": 6,
   "metadata": {},
   "outputs": [
    {
     "data": {
      "text/html": [
       "<div>\n",
       "<style scoped>\n",
       "    .dataframe tbody tr th:only-of-type {\n",
       "        vertical-align: middle;\n",
       "    }\n",
       "\n",
       "    .dataframe tbody tr th {\n",
       "        vertical-align: top;\n",
       "    }\n",
       "\n",
       "    .dataframe thead th {\n",
       "        text-align: right;\n",
       "    }\n",
       "</style>\n",
       "<table border=\"1\" class=\"dataframe\">\n",
       "  <thead>\n",
       "    <tr style=\"text-align: right;\">\n",
       "      <th></th>\n",
       "      <th>date</th>\n",
       "      <th>calories_burned</th>\n",
       "      <th>steps</th>\n",
       "      <th>distance</th>\n",
       "      <th>floors</th>\n",
       "      <th>minutes_sedentary</th>\n",
       "      <th>minutes_lightly_active</th>\n",
       "      <th>minutes_fairly_active</th>\n",
       "      <th>minutes_very_active</th>\n",
       "      <th>activity_calories</th>\n",
       "    </tr>\n",
       "  </thead>\n",
       "  <tbody>\n",
       "    <tr>\n",
       "      <th>0</th>\n",
       "      <td>4/26/18</td>\n",
       "      <td>2635.0</td>\n",
       "      <td>2931.0</td>\n",
       "      <td>1.38</td>\n",
       "      <td>2</td>\n",
       "      <td>1347.0</td>\n",
       "      <td>93</td>\n",
       "      <td>0</td>\n",
       "      <td>0</td>\n",
       "      <td>566.0</td>\n",
       "    </tr>\n",
       "    <tr>\n",
       "      <th>1</th>\n",
       "      <td>4/27/18</td>\n",
       "      <td>3649.0</td>\n",
       "      <td>9971.0</td>\n",
       "      <td>4.70</td>\n",
       "      <td>19</td>\n",
       "      <td>1158.0</td>\n",
       "      <td>219</td>\n",
       "      <td>46</td>\n",
       "      <td>17</td>\n",
       "      <td>1752.0</td>\n",
       "    </tr>\n",
       "    <tr>\n",
       "      <th>2</th>\n",
       "      <td>4/28/18</td>\n",
       "      <td>3379.0</td>\n",
       "      <td>3521.0</td>\n",
       "      <td>1.66</td>\n",
       "      <td>2</td>\n",
       "      <td>702.0</td>\n",
       "      <td>155</td>\n",
       "      <td>22</td>\n",
       "      <td>11</td>\n",
       "      <td>1124.0</td>\n",
       "    </tr>\n",
       "    <tr>\n",
       "      <th>3</th>\n",
       "      <td>4/29/18</td>\n",
       "      <td>2851.0</td>\n",
       "      <td>1639.0</td>\n",
       "      <td>0.77</td>\n",
       "      <td>0</td>\n",
       "      <td>891.0</td>\n",
       "      <td>122</td>\n",
       "      <td>0</td>\n",
       "      <td>0</td>\n",
       "      <td>602.0</td>\n",
       "    </tr>\n",
       "    <tr>\n",
       "      <th>4</th>\n",
       "      <td>4/30/18</td>\n",
       "      <td>2825.0</td>\n",
       "      <td>1323.0</td>\n",
       "      <td>0.62</td>\n",
       "      <td>0</td>\n",
       "      <td>880.0</td>\n",
       "      <td>104</td>\n",
       "      <td>0</td>\n",
       "      <td>0</td>\n",
       "      <td>540.0</td>\n",
       "    </tr>\n",
       "  </tbody>\n",
       "</table>\n",
       "</div>"
      ],
      "text/plain": [
       "      date  calories_burned   steps  distance  floors  minutes_sedentary  \\\n",
       "0  4/26/18           2635.0  2931.0      1.38       2             1347.0   \n",
       "1  4/27/18           3649.0  9971.0      4.70      19             1158.0   \n",
       "2  4/28/18           3379.0  3521.0      1.66       2              702.0   \n",
       "3  4/29/18           2851.0  1639.0      0.77       0              891.0   \n",
       "4  4/30/18           2825.0  1323.0      0.62       0              880.0   \n",
       "\n",
       "   minutes_lightly_active  minutes_fairly_active  minutes_very_active  \\\n",
       "0                      93                      0                    0   \n",
       "1                     219                     46                   17   \n",
       "2                     155                     22                   11   \n",
       "3                     122                      0                    0   \n",
       "4                     104                      0                    0   \n",
       "\n",
       "   activity_calories  \n",
       "0              566.0  \n",
       "1             1752.0  \n",
       "2             1124.0  \n",
       "3              602.0  \n",
       "4              540.0  "
      ]
     },
     "execution_count": 6,
     "metadata": {},
     "output_type": "execute_result"
    }
   ],
   "source": [
    "df.head()"
   ]
  },
  {
   "cell_type": "markdown",
   "metadata": {},
   "source": [
    "### Prepare data for Prophet object"
   ]
  },
  {
   "cell_type": "code",
   "execution_count": 7,
   "metadata": {},
   "outputs": [
    {
     "data": {
      "text/plain": [
       "'calories_burned'"
      ]
     },
     "execution_count": 7,
     "metadata": {},
     "output_type": "execute_result"
    }
   ],
   "source": [
    "df.columns[0+1]"
   ]
  },
  {
   "cell_type": "code",
   "execution_count": 8,
   "metadata": {},
   "outputs": [
    {
     "name": "stderr",
     "output_type": "stream",
     "text": [
      "INFO:fbprophet:Disabling yearly seasonality. Run prophet with yearly_seasonality=True to override this.\n",
      "INFO:fbprophet:Disabling daily seasonality. Run prophet with daily_seasonality=True to override this.\n"
     ]
    }
   ],
   "source": [
    "df1, forecast1, future1 = prepare.prepare_calories_burned_prophet(df)"
   ]
  },
  {
   "cell_type": "code",
   "execution_count": 9,
   "metadata": {
    "scrolled": true
   },
   "outputs": [
    {
     "name": "stderr",
     "output_type": "stream",
     "text": [
      "INFO:fbprophet:Disabling yearly seasonality. Run prophet with yearly_seasonality=True to override this.\n",
      "INFO:fbprophet:Disabling daily seasonality. Run prophet with daily_seasonality=True to override this.\n"
     ]
    }
   ],
   "source": [
    "df2, forecast2, future2 = prepare.prepare_steps_prophet(df)"
   ]
  },
  {
   "cell_type": "code",
   "execution_count": 10,
   "metadata": {},
   "outputs": [
    {
     "name": "stderr",
     "output_type": "stream",
     "text": [
      "INFO:fbprophet:Disabling yearly seasonality. Run prophet with yearly_seasonality=True to override this.\n",
      "INFO:fbprophet:Disabling daily seasonality. Run prophet with daily_seasonality=True to override this.\n"
     ]
    }
   ],
   "source": [
    "df3, forecast3, future3 = prepare.prepare_distance_prophet(df)"
   ]
  },
  {
   "cell_type": "code",
   "execution_count": 11,
   "metadata": {},
   "outputs": [
    {
     "name": "stderr",
     "output_type": "stream",
     "text": [
      "INFO:fbprophet:Disabling yearly seasonality. Run prophet with yearly_seasonality=True to override this.\n",
      "INFO:fbprophet:Disabling daily seasonality. Run prophet with daily_seasonality=True to override this.\n"
     ]
    }
   ],
   "source": [
    "df4, forecast4, future4 = prepare.prepare_floors_prophet(df)"
   ]
  },
  {
   "cell_type": "code",
   "execution_count": 12,
   "metadata": {},
   "outputs": [
    {
     "name": "stderr",
     "output_type": "stream",
     "text": [
      "INFO:fbprophet:Disabling yearly seasonality. Run prophet with yearly_seasonality=True to override this.\n",
      "INFO:fbprophet:Disabling daily seasonality. Run prophet with daily_seasonality=True to override this.\n"
     ]
    }
   ],
   "source": [
    "df5, forecast5, future5 = prepare.prepare_minutes_sedentary_prophet(df)"
   ]
  },
  {
   "cell_type": "code",
   "execution_count": 13,
   "metadata": {},
   "outputs": [
    {
     "name": "stderr",
     "output_type": "stream",
     "text": [
      "INFO:fbprophet:Disabling yearly seasonality. Run prophet with yearly_seasonality=True to override this.\n",
      "INFO:fbprophet:Disabling daily seasonality. Run prophet with daily_seasonality=True to override this.\n"
     ]
    }
   ],
   "source": [
    "df6, forecast6, future6 = prepare.prepare_minutes_lightly_active_prophet(df)"
   ]
  },
  {
   "cell_type": "code",
   "execution_count": 14,
   "metadata": {},
   "outputs": [
    {
     "name": "stderr",
     "output_type": "stream",
     "text": [
      "INFO:fbprophet:Disabling yearly seasonality. Run prophet with yearly_seasonality=True to override this.\n",
      "INFO:fbprophet:Disabling daily seasonality. Run prophet with daily_seasonality=True to override this.\n"
     ]
    }
   ],
   "source": [
    "df7, forecast7, future7 = prepare.prepare_minutes_fairly_active_prophet(df)"
   ]
  },
  {
   "cell_type": "code",
   "execution_count": 15,
   "metadata": {},
   "outputs": [
    {
     "name": "stderr",
     "output_type": "stream",
     "text": [
      "INFO:fbprophet:Disabling yearly seasonality. Run prophet with yearly_seasonality=True to override this.\n",
      "INFO:fbprophet:Disabling daily seasonality. Run prophet with daily_seasonality=True to override this.\n"
     ]
    }
   ],
   "source": [
    "df8, forecast8, future8 = prepare.prepare_minutes_very_active_prophet(df)"
   ]
  },
  {
   "cell_type": "code",
   "execution_count": 16,
   "metadata": {},
   "outputs": [
    {
     "name": "stderr",
     "output_type": "stream",
     "text": [
      "INFO:fbprophet:Disabling yearly seasonality. Run prophet with yearly_seasonality=True to override this.\n",
      "INFO:fbprophet:Disabling daily seasonality. Run prophet with daily_seasonality=True to override this.\n"
     ]
    }
   ],
   "source": [
    "df9, forecast9, future9 = prepare.prepare_activity_calories_prophet(df)"
   ]
  },
  {
   "cell_type": "code",
   "execution_count": 17,
   "metadata": {},
   "outputs": [
    {
     "data": {
      "text/html": [
       "<div>\n",
       "<style scoped>\n",
       "    .dataframe tbody tr th:only-of-type {\n",
       "        vertical-align: middle;\n",
       "    }\n",
       "\n",
       "    .dataframe tbody tr th {\n",
       "        vertical-align: top;\n",
       "    }\n",
       "\n",
       "    .dataframe thead th {\n",
       "        text-align: right;\n",
       "    }\n",
       "</style>\n",
       "<table border=\"1\" class=\"dataframe\">\n",
       "  <thead>\n",
       "    <tr style=\"text-align: right;\">\n",
       "      <th></th>\n",
       "      <th>ds</th>\n",
       "      <th>y</th>\n",
       "    </tr>\n",
       "  </thead>\n",
       "  <tbody>\n",
       "    <tr>\n",
       "      <th>220</th>\n",
       "      <td>2018-12-02</td>\n",
       "      <td>3957.0</td>\n",
       "    </tr>\n",
       "    <tr>\n",
       "      <th>221</th>\n",
       "      <td>2018-12-03</td>\n",
       "      <td>3660.0</td>\n",
       "    </tr>\n",
       "    <tr>\n",
       "      <th>222</th>\n",
       "      <td>2018-12-04</td>\n",
       "      <td>3384.0</td>\n",
       "    </tr>\n",
       "    <tr>\n",
       "      <th>223</th>\n",
       "      <td>2018-12-05</td>\n",
       "      <td>3670.0</td>\n",
       "    </tr>\n",
       "    <tr>\n",
       "      <th>224</th>\n",
       "      <td>2018-12-06</td>\n",
       "      <td>3669.0</td>\n",
       "    </tr>\n",
       "  </tbody>\n",
       "</table>\n",
       "</div>"
      ],
      "text/plain": [
       "            ds       y\n",
       "220 2018-12-02  3957.0\n",
       "221 2018-12-03  3660.0\n",
       "222 2018-12-04  3384.0\n",
       "223 2018-12-05  3670.0\n",
       "224 2018-12-06  3669.0"
      ]
     },
     "execution_count": 17,
     "metadata": {},
     "output_type": "execute_result"
    }
   ],
   "source": [
    "df1.tail()"
   ]
  },
  {
   "cell_type": "code",
   "execution_count": 18,
   "metadata": {},
   "outputs": [],
   "source": [
    "predictions_df = future1[['ds', 'yhat']]"
   ]
  },
  {
   "cell_type": "code",
   "execution_count": 19,
   "metadata": {},
   "outputs": [
    {
     "data": {
      "text/html": [
       "<div>\n",
       "<style scoped>\n",
       "    .dataframe tbody tr th:only-of-type {\n",
       "        vertical-align: middle;\n",
       "    }\n",
       "\n",
       "    .dataframe tbody tr th {\n",
       "        vertical-align: top;\n",
       "    }\n",
       "\n",
       "    .dataframe thead th {\n",
       "        text-align: right;\n",
       "    }\n",
       "</style>\n",
       "<table border=\"1\" class=\"dataframe\">\n",
       "  <thead>\n",
       "    <tr style=\"text-align: right;\">\n",
       "      <th></th>\n",
       "      <th>ds</th>\n",
       "      <th>trend</th>\n",
       "      <th>yhat_lower</th>\n",
       "      <th>yhat_upper</th>\n",
       "      <th>trend_lower</th>\n",
       "      <th>trend_upper</th>\n",
       "      <th>additive_terms</th>\n",
       "      <th>additive_terms_lower</th>\n",
       "      <th>additive_terms_upper</th>\n",
       "      <th>weekly</th>\n",
       "      <th>weekly_lower</th>\n",
       "      <th>weekly_upper</th>\n",
       "      <th>multiplicative_terms</th>\n",
       "      <th>multiplicative_terms_lower</th>\n",
       "      <th>multiplicative_terms_upper</th>\n",
       "      <th>yhat</th>\n",
       "    </tr>\n",
       "  </thead>\n",
       "  <tbody>\n",
       "    <tr>\n",
       "      <th>234</th>\n",
       "      <td>2018-12-16</td>\n",
       "      <td>2223.924706</td>\n",
       "      <td>1716.415659</td>\n",
       "      <td>3294.580055</td>\n",
       "      <td>2223.924691</td>\n",
       "      <td>2223.924720</td>\n",
       "      <td>248.315678</td>\n",
       "      <td>248.315678</td>\n",
       "      <td>248.315678</td>\n",
       "      <td>248.315678</td>\n",
       "      <td>248.315678</td>\n",
       "      <td>248.315678</td>\n",
       "      <td>0.0</td>\n",
       "      <td>0.0</td>\n",
       "      <td>0.0</td>\n",
       "      <td>2472.240384</td>\n",
       "    </tr>\n",
       "    <tr>\n",
       "      <th>235</th>\n",
       "      <td>2018-12-17</td>\n",
       "      <td>2230.004961</td>\n",
       "      <td>1203.513875</td>\n",
       "      <td>2781.172983</td>\n",
       "      <td>2230.004944</td>\n",
       "      <td>2230.004977</td>\n",
       "      <td>-207.739355</td>\n",
       "      <td>-207.739355</td>\n",
       "      <td>-207.739355</td>\n",
       "      <td>-207.739355</td>\n",
       "      <td>-207.739355</td>\n",
       "      <td>-207.739355</td>\n",
       "      <td>0.0</td>\n",
       "      <td>0.0</td>\n",
       "      <td>0.0</td>\n",
       "      <td>2022.265606</td>\n",
       "    </tr>\n",
       "    <tr>\n",
       "      <th>236</th>\n",
       "      <td>2018-12-18</td>\n",
       "      <td>2236.085216</td>\n",
       "      <td>1290.751124</td>\n",
       "      <td>2845.994658</td>\n",
       "      <td>2236.085196</td>\n",
       "      <td>2236.085235</td>\n",
       "      <td>-154.794693</td>\n",
       "      <td>-154.794693</td>\n",
       "      <td>-154.794693</td>\n",
       "      <td>-154.794693</td>\n",
       "      <td>-154.794693</td>\n",
       "      <td>-154.794693</td>\n",
       "      <td>0.0</td>\n",
       "      <td>0.0</td>\n",
       "      <td>0.0</td>\n",
       "      <td>2081.290523</td>\n",
       "    </tr>\n",
       "    <tr>\n",
       "      <th>237</th>\n",
       "      <td>2018-12-19</td>\n",
       "      <td>2242.165471</td>\n",
       "      <td>1296.875889</td>\n",
       "      <td>2859.167313</td>\n",
       "      <td>2242.165448</td>\n",
       "      <td>2242.165493</td>\n",
       "      <td>-177.607973</td>\n",
       "      <td>-177.607973</td>\n",
       "      <td>-177.607973</td>\n",
       "      <td>-177.607973</td>\n",
       "      <td>-177.607973</td>\n",
       "      <td>-177.607973</td>\n",
       "      <td>0.0</td>\n",
       "      <td>0.0</td>\n",
       "      <td>0.0</td>\n",
       "      <td>2064.557498</td>\n",
       "    </tr>\n",
       "    <tr>\n",
       "      <th>238</th>\n",
       "      <td>2018-12-20</td>\n",
       "      <td>2248.245726</td>\n",
       "      <td>1488.706829</td>\n",
       "      <td>3069.368281</td>\n",
       "      <td>2248.245700</td>\n",
       "      <td>2248.245752</td>\n",
       "      <td>29.268012</td>\n",
       "      <td>29.268012</td>\n",
       "      <td>29.268012</td>\n",
       "      <td>29.268012</td>\n",
       "      <td>29.268012</td>\n",
       "      <td>29.268012</td>\n",
       "      <td>0.0</td>\n",
       "      <td>0.0</td>\n",
       "      <td>0.0</td>\n",
       "      <td>2277.513739</td>\n",
       "    </tr>\n",
       "  </tbody>\n",
       "</table>\n",
       "</div>"
      ],
      "text/plain": [
       "            ds        trend   yhat_lower   yhat_upper  trend_lower  \\\n",
       "234 2018-12-16  2223.924706  1716.415659  3294.580055  2223.924691   \n",
       "235 2018-12-17  2230.004961  1203.513875  2781.172983  2230.004944   \n",
       "236 2018-12-18  2236.085216  1290.751124  2845.994658  2236.085196   \n",
       "237 2018-12-19  2242.165471  1296.875889  2859.167313  2242.165448   \n",
       "238 2018-12-20  2248.245726  1488.706829  3069.368281  2248.245700   \n",
       "\n",
       "     trend_upper  additive_terms  additive_terms_lower  additive_terms_upper  \\\n",
       "234  2223.924720      248.315678            248.315678            248.315678   \n",
       "235  2230.004977     -207.739355           -207.739355           -207.739355   \n",
       "236  2236.085235     -154.794693           -154.794693           -154.794693   \n",
       "237  2242.165493     -177.607973           -177.607973           -177.607973   \n",
       "238  2248.245752       29.268012             29.268012             29.268012   \n",
       "\n",
       "         weekly  weekly_lower  weekly_upper  multiplicative_terms  \\\n",
       "234  248.315678    248.315678    248.315678                   0.0   \n",
       "235 -207.739355   -207.739355   -207.739355                   0.0   \n",
       "236 -154.794693   -154.794693   -154.794693                   0.0   \n",
       "237 -177.607973   -177.607973   -177.607973                   0.0   \n",
       "238   29.268012     29.268012     29.268012                   0.0   \n",
       "\n",
       "     multiplicative_terms_lower  multiplicative_terms_upper         yhat  \n",
       "234                         0.0                         0.0  2472.240384  \n",
       "235                         0.0                         0.0  2022.265606  \n",
       "236                         0.0                         0.0  2081.290523  \n",
       "237                         0.0                         0.0  2064.557498  \n",
       "238                         0.0                         0.0  2277.513739  "
      ]
     },
     "execution_count": 19,
     "metadata": {},
     "output_type": "execute_result"
    }
   ],
   "source": [
    "future9.tail()"
   ]
  },
  {
   "cell_type": "markdown",
   "metadata": {},
   "source": [
    "### Combine and rename Predictions to original column name"
   ]
  },
  {
   "cell_type": "code",
   "execution_count": 20,
   "metadata": {},
   "outputs": [],
   "source": [
    "predictions_df.columns = ['date', 'calories_burned']\n",
    "\n",
    "predictions_df['steps'] = future2['yhat']\n",
    "predictions_df['distance'] = future3['yhat']\n",
    "predictions_df['floors'] = future4['yhat']\n",
    "predictions_df['minutes_sedentary'] = future5['yhat']\n",
    "predictions_df['minutes_lightly_active'] = future6['yhat']\n",
    "predictions_df['minutes_fairly_active'] = future7['yhat']\n",
    "predictions_df['minutes_very_active'] = future8['yhat']\n",
    "predictions_df['activity_calories'] = future9['yhat']\n"
   ]
  },
  {
   "cell_type": "markdown",
   "metadata": {},
   "source": [
    "### Retrieve the 14 predictions"
   ]
  },
  {
   "cell_type": "code",
   "execution_count": 21,
   "metadata": {},
   "outputs": [],
   "source": [
    "predictions_df = predictions_df.tail(14) "
   ]
  },
  {
   "cell_type": "code",
   "execution_count": 22,
   "metadata": {},
   "outputs": [],
   "source": [
    "# predictions_df.date = pd.to_datetime(predictions_df.date)\n",
    "# predictions_df = df.set_index('date')"
   ]
  },
  {
   "cell_type": "markdown",
   "metadata": {},
   "source": [
    "### Create CSV File"
   ]
  },
  {
   "cell_type": "code",
   "execution_count": 23,
   "metadata": {},
   "outputs": [],
   "source": [
    "predictions_df.to_csv('missing_2_weeks_predictions.csv')"
   ]
  },
  {
   "cell_type": "code",
   "execution_count": 24,
   "metadata": {},
   "outputs": [],
   "source": [
    "# forecast[['ds', 'yhat_lower', 'yhat_upper', 'yhat']].tail(14)"
   ]
  },
  {
   "cell_type": "code",
   "execution_count": 25,
   "metadata": {},
   "outputs": [],
   "source": [
    "# m.plot(forecast);"
   ]
  }
 ],
 "metadata": {
  "kernelspec": {
   "display_name": "Python 3",
   "language": "python",
   "name": "python3"
  },
  "language_info": {
   "codemirror_mode": {
    "name": "ipython",
    "version": 3
   },
   "file_extension": ".py",
   "mimetype": "text/x-python",
   "name": "python",
   "nbconvert_exporter": "python",
   "pygments_lexer": "ipython3",
   "version": "3.7.3"
  }
 },
 "nbformat": 4,
 "nbformat_minor": 2
}
